{
 "cells": [
  {
   "cell_type": "markdown",
   "id": "04f0400b-ad03-4da0-9981-ea2109e4feca",
   "metadata": {
    "tags": []
   },
   "source": [
    "# Filtering stringtie predictions"
   ]
  },
  {
   "cell_type": "markdown",
   "id": "723e4bfb-df12-470d-90b3-2c2ed3e288dc",
   "metadata": {},
   "source": [
    "Because fungal genes are so close together, it's fairly common for RNA-seq coverage to overlap between neighboring genes.\n",
    "As a consequence, stringtie tends to create alternative transcripts that are actually just merges of two genes.\n",
    "This is the problem we're trying to resolve here."
   ]
  },
  {
   "cell_type": "code",
   "execution_count": 1,
   "id": "f0ba98da-0c36-4a27-a73e-50979cc4874f",
   "metadata": {
    "tags": []
   },
   "outputs": [],
   "source": [
    "import re\n",
    "import json\n",
    "import pandas as pd\n",
    "import numpy as np\n",
    "from scipy.sparse import lil_array\n",
    "from collections import defaultdict, Counter\n",
    "from intervaltree import Interval, IntervalTree\n",
    "\n",
    "from scipy.spatial.distance import squareform\n",
    "from scipy.cluster.hierarchy import linkage, dendrogram, cut_tree\n",
    "\n",
    "from IPython.display import clear_output"
   ]
  },
  {
   "cell_type": "code",
   "execution_count": 2,
   "id": "b7de7167-af13-4538-832e-d0e1599b4ee5",
   "metadata": {},
   "outputs": [],
   "source": [
    "LINEWIDTH=160"
   ]
  },
  {
   "cell_type": "code",
   "execution_count": 3,
   "id": "7571fcb4-5aeb-4f2a-a159-53a224b11b44",
   "metadata": {},
   "outputs": [],
   "source": [
    "pd.set_option('display.width', LINEWIDTH)"
   ]
  },
  {
   "cell_type": "code",
   "execution_count": 4,
   "id": "1cfe1ae9-00c4-406b-96e0-0f55bb3f855d",
   "metadata": {
    "tags": []
   },
   "outputs": [
    {
     "data": {
      "text/html": [
       "<div>\n",
       "<style scoped>\n",
       "    .dataframe tbody tr th:only-of-type {\n",
       "        vertical-align: middle;\n",
       "    }\n",
       "\n",
       "    .dataframe tbody tr th {\n",
       "        vertical-align: top;\n",
       "    }\n",
       "\n",
       "    .dataframe thead th {\n",
       "        text-align: right;\n",
       "    }\n",
       "</style>\n",
       "<table border=\"1\" class=\"dataframe\">\n",
       "  <thead>\n",
       "    <tr style=\"text-align: right;\">\n",
       "      <th></th>\n",
       "      <th>seqid</th>\n",
       "      <th>source</th>\n",
       "      <th>type</th>\n",
       "      <th>start</th>\n",
       "      <th>end</th>\n",
       "      <th>score</th>\n",
       "      <th>strand</th>\n",
       "      <th>phase</th>\n",
       "      <th>transcript</th>\n",
       "      <th>gene_id</th>\n",
       "      <th>ref_gene_id</th>\n",
       "    </tr>\n",
       "  </thead>\n",
       "  <tbody>\n",
       "    <tr>\n",
       "      <th>1</th>\n",
       "      <td>chr01</td>\n",
       "      <td>StringTie</td>\n",
       "      <td>exon</td>\n",
       "      <td>178</td>\n",
       "      <td>345</td>\n",
       "      <td>1000</td>\n",
       "      <td>-</td>\n",
       "      <td>.</td>\n",
       "      <td>MSTRG.1.1</td>\n",
       "      <td>MSTRG.1</td>\n",
       "      <td>&lt;NA&gt;</td>\n",
       "    </tr>\n",
       "    <tr>\n",
       "      <th>0</th>\n",
       "      <td>chr01</td>\n",
       "      <td>StringTie</td>\n",
       "      <td>transcript</td>\n",
       "      <td>178</td>\n",
       "      <td>1742</td>\n",
       "      <td>1000</td>\n",
       "      <td>-</td>\n",
       "      <td>.</td>\n",
       "      <td>MSTRG.1.1</td>\n",
       "      <td>MSTRG.1</td>\n",
       "      <td>&lt;NA&gt;</td>\n",
       "    </tr>\n",
       "    <tr>\n",
       "      <th>6</th>\n",
       "      <td>chr01</td>\n",
       "      <td>StringTie</td>\n",
       "      <td>exon</td>\n",
       "      <td>295</td>\n",
       "      <td>2294</td>\n",
       "      <td>1000</td>\n",
       "      <td>+</td>\n",
       "      <td>.</td>\n",
       "      <td>MSTRG.2.1</td>\n",
       "      <td>MSTRG.2</td>\n",
       "      <td>&lt;NA&gt;</td>\n",
       "    </tr>\n",
       "    <tr>\n",
       "      <th>5</th>\n",
       "      <td>chr01</td>\n",
       "      <td>StringTie</td>\n",
       "      <td>transcript</td>\n",
       "      <td>295</td>\n",
       "      <td>6460</td>\n",
       "      <td>1000</td>\n",
       "      <td>+</td>\n",
       "      <td>.</td>\n",
       "      <td>MSTRG.2.1</td>\n",
       "      <td>MSTRG.2</td>\n",
       "      <td>&lt;NA&gt;</td>\n",
       "    </tr>\n",
       "    <tr>\n",
       "      <th>11</th>\n",
       "      <td>chr01</td>\n",
       "      <td>StringTie</td>\n",
       "      <td>exon</td>\n",
       "      <td>312</td>\n",
       "      <td>882</td>\n",
       "      <td>1000</td>\n",
       "      <td>+</td>\n",
       "      <td>.</td>\n",
       "      <td>MSTRG.2.2</td>\n",
       "      <td>MSTRG.2</td>\n",
       "      <td>&lt;NA&gt;</td>\n",
       "    </tr>\n",
       "  </tbody>\n",
       "</table>\n",
       "</div>"
      ],
      "text/plain": [
       "    seqid     source        type  start   end score strand phase transcript  gene_id ref_gene_id\n",
       "1   chr01  StringTie        exon    178   345  1000      -     .  MSTRG.1.1  MSTRG.1        <NA>\n",
       "0   chr01  StringTie  transcript    178  1742  1000      -     .  MSTRG.1.1  MSTRG.1        <NA>\n",
       "6   chr01  StringTie        exon    295  2294  1000      +     .  MSTRG.2.1  MSTRG.2        <NA>\n",
       "5   chr01  StringTie  transcript    295  6460  1000      +     .  MSTRG.2.1  MSTRG.2        <NA>\n",
       "11  chr01  StringTie        exon    312   882  1000      +     .  MSTRG.2.2  MSTRG.2        <NA>"
      ]
     },
     "execution_count": 4,
     "metadata": {},
     "output_type": "execute_result"
    }
   ],
   "source": [
    "regex1 = re.compile('transcript_id\\s+\"([^\"]+)\"')\n",
    "regex2 = re.compile('ref_gene_id\\s+\"(?P<g>[^\"]+)\"')\n",
    "regex3 = re.compile('gene_id\\s+\"([^\"]+)\"')\n",
    "\n",
    "gtf = pd.read_csv(\n",
    "    \"stringtie_merged.gtf\",\n",
    "    sep=\"\\t\",\n",
    "    comment=\"#\",\n",
    "    names=\"seqid source type start end score strand phase attributes\".split(),\n",
    "    low_memory=False\n",
    ")\n",
    "\n",
    "def get_ref_gene_id(f):\n",
    "    m = regex2.search(f)\n",
    "\n",
    "    if m is None:\n",
    "        return pd.NA\n",
    "\n",
    "    return m.groupdict().get(\"g\")\n",
    "\n",
    "gtf[\"start\"] -= 1\n",
    "gtf[\"transcript\"] = gtf[\"attributes\"].apply(lambda f: regex1.search(f).groups()[0])\n",
    "gtf[\"gene_id\"] = gtf[\"attributes\"].apply(lambda f: regex3.search(f).groups()[0])\n",
    "gtf[\"ref_gene_id\"] = gtf[\"attributes\"].apply(get_ref_gene_id)\n",
    "gtf.drop(columns = \"attributes\", inplace=True)\n",
    "gtf.sort_values(by=[\"seqid\", \"start\", \"end\"], inplace=True)\n",
    "gtf.head()"
   ]
  },
  {
   "cell_type": "markdown",
   "id": "fb3b9e04-989f-4c05-ab50-31e89fadc942",
   "metadata": {
    "tags": []
   },
   "source": [
    "First, we'll need a way to find overlapping genes.\n",
    "This is relatively simple if we go by the gene names, but later on when we split genes this will be more useful."
   ]
  },
  {
   "cell_type": "code",
   "execution_count": 5,
   "id": "42d3755d-2cab-4203-9746-b9c2bcabce98",
   "metadata": {
    "tags": []
   },
   "outputs": [
    {
     "data": {
      "text/plain": [
       "24075"
      ]
     },
     "execution_count": 5,
     "metadata": {},
     "output_type": "execute_result"
    }
   ],
   "source": [
    "gtf[\"transcript\"].nunique()"
   ]
  },
  {
   "cell_type": "code",
   "execution_count": 6,
   "id": "d17e584e-ad9a-415e-bc00-02ac2999b2d3",
   "metadata": {
    "tags": []
   },
   "outputs": [],
   "source": [
    "itrees = defaultdict(IntervalTree)\n",
    "transcript_indices = dict()\n",
    "\n",
    "for i, row in gtf[gtf[\"type\"] == \"transcript\"].reset_index().iterrows():\n",
    "    transcript = row[\"transcript\"]\n",
    "    transcript_indices[transcript] = i\n",
    "    itrees[row[\"seqid\"]].add(Interval(row[\"start\"], row[\"end\"], data=transcript))"
   ]
  },
  {
   "cell_type": "markdown",
   "id": "6062c0e6-95b1-4a9e-9c8d-236745ecd393",
   "metadata": {},
   "source": [
    "Next we need a way of comparing two gene predictions.\n",
    "We'll define the similarity as the jaccard index of the exon positions (ie. how similar is the overall intron-exon structure).\n",
    "We'll also look as locus level merging based on a simple overlap coverage.\n",
    "\n",
    "Ideally, we shouldn't have any cases where two loci that don't overlap, are covered by another locus that overlaps both."
   ]
  },
  {
   "cell_type": "code",
   "execution_count": 7,
   "id": "7e503761-3efd-4dcf-94c4-6722acfe6ac9",
   "metadata": {
    "tags": []
   },
   "outputs": [],
   "source": [
    "transcripts = defaultdict(set)\n",
    "\n",
    "for i, row in gtf[gtf[\"type\"] == \"transcript\"].iterrows():\n",
    "    transcript = row[\"transcript\"]\n",
    "    if row[\"strand\"] == \"-\":\n",
    "        strand = -1\n",
    "        offset = -1\n",
    "    else:\n",
    "        strand = 1\n",
    "        offset = 0\n",
    "\n",
    "    transcripts[transcript].update(range((strand * row[\"start\"]) + offset, (strand * row[\"end\"]) + offset, strand))\n",
    "\n",
    "\n",
    "exons = defaultdict(set)\n",
    "\n",
    "for i, row in gtf[gtf[\"type\"] == \"exon\"].iterrows():\n",
    "    transcript = row[\"transcript\"]\n",
    "    if row[\"strand\"] == \"-\":\n",
    "        strand = -1\n",
    "    else:\n",
    "        strand = 1\n",
    "\n",
    "    exons[transcript].update(range(strand * row[\"start\"], strand * row[\"end\"], strand))"
   ]
  },
  {
   "cell_type": "code",
   "execution_count": 8,
   "id": "8685c325-6375-4914-aee0-74477a4537c8",
   "metadata": {
    "tags": []
   },
   "outputs": [],
   "source": [
    "def coverage(t1, t2):\n",
    "    inter = len(t1.intersection(t2))\n",
    "    return max([inter / len(t1), inter / len(t2)])"
   ]
  },
  {
   "cell_type": "markdown",
   "id": "7b077d53-c62f-47da-b837-187184fe28a4",
   "metadata": {
    "tags": []
   },
   "source": [
    "Now we'll calculate the pairwise coverages."
   ]
  },
  {
   "cell_type": "code",
   "execution_count": 9,
   "id": "dd0a4e82-07dd-4748-b71c-71c8b3399866",
   "metadata": {
    "tags": []
   },
   "outputs": [],
   "source": [
    "coverages = lil_array((len(transcript_indices), len(transcript_indices)), dtype=float)\n",
    "\n",
    "for seqid, itree in itrees.items():\n",
    "    for interval in sorted(itree):\n",
    "        t1_name = interval.data\n",
    "        t1_index = transcript_indices[t1_name]\n",
    "        t1 = transcripts[t1_name]\n",
    "        e1 = exons[t1_name]\n",
    "        overlapping = itree.overlap(interval)\n",
    "        for overlap in sorted(overlapping):\n",
    "            t2_name = overlap.data\n",
    "            t2_index = transcript_indices[t2_name]\n",
    "            t2 = transcripts[t2_name]\n",
    "            cov = coverage(t1, t2)\n",
    "            coverages[t1_index, t2_index] = cov"
   ]
  },
  {
   "cell_type": "code",
   "execution_count": null,
   "id": "c4644477-bcde-4e6a-ba3b-01fd16ae8681",
   "metadata": {},
   "outputs": [],
   "source": []
  },
  {
   "cell_type": "markdown",
   "id": "5c27edc6-b784-423b-9fd8-ef0d9bc26d89",
   "metadata": {},
   "source": [
    "From this we get a way to quickly compare two genes."
   ]
  },
  {
   "cell_type": "code",
   "execution_count": 10,
   "id": "61eefa37-b971-4b59-971d-93a49c0a0824",
   "metadata": {
    "tags": []
   },
   "outputs": [
    {
     "data": {
      "text/plain": [
       "array([[1., 0., 0., 1., 0.],\n",
       "       [0., 1., 1., 0., 1.],\n",
       "       [0., 1., 1., 0., 1.],\n",
       "       [1., 0., 0., 1., 0.],\n",
       "       [0., 1., 1., 0., 1.]])"
      ]
     },
     "execution_count": 10,
     "metadata": {},
     "output_type": "execute_result"
    }
   ],
   "source": [
    "coverages[:5, :5].todense()"
   ]
  },
  {
   "cell_type": "markdown",
   "id": "ff39f328-618f-4d58-9494-c30a722aaa4d",
   "metadata": {},
   "source": [
    "## Manual removal of loci that join distinct loci\n",
    "\n",
    "Here we'll do a semi-manual curation of the transcripts.\n",
    "Some cases are easy, while others are more in a grey area.\n",
    "We'll look at the cases where it's a grey area and automatically deal with the easy ones.\n",
    "\n",
    "- Joining transcripts are the problematic transcripts that we want to exclude.\n",
    "- Joining exceptions are the transcripts that may look like problems, but we actually want to keep them in."
   ]
  },
  {
   "cell_type": "code",
   "execution_count": 11,
   "id": "a6b5100d-1a39-425f-8f65-c3cd16c167fe",
   "metadata": {},
   "outputs": [],
   "source": [
    "def is_bad(subdf, transcript_indices, coverages, good_prefix = \"sscl\"):\n",
    "    gene_transcripts = subdf[\"transcript\"].unique()\n",
    "    gene_transcripts_indices = np.array([transcript_indices[t] for t in gene_transcripts])\n",
    "    \n",
    "    goodies = np.array([s.lower().startswith(good_prefix) for s in gene_transcripts])\n",
    "    \n",
    "    n = gene_transcripts.shape[0]\n",
    "    col_index = np.repeat(gene_transcripts_indices, n)\n",
    "    row_index = np.tile(gene_transcripts_indices, n)\n",
    "\n",
    "    transcript_cov = np.reshape(\n",
    "        coverages[row_index, col_index].todense(),\n",
    "        (n, n)\n",
    "    )\n",
    "    \n",
    "    transcript_cov = pd.DataFrame(transcript_cov, index=gene_transcripts, columns=gene_transcripts)\n",
    "\n",
    "    if transcript_cov.size == 1:\n",
    "        return transcript_cov, gene_transcripts, None, None\n",
    "\n",
    "    if (transcript_cov.values < 1).any(axis=1).any():\n",
    "        easy_cases = gene_transcripts[(transcript_cov.values > 0.99).all(axis=1) & (~goodies)]\n",
    "        baddies = gene_transcripts[(transcript_cov.values > 0).all(axis=1) & (~goodies)]\n",
    "\n",
    "        if np.size(easy_cases) == 0:\n",
    "            easy_cases = None\n",
    "        else:\n",
    "            baddies = np.setdiff1d(baddies, easy_cases)\n",
    "        \n",
    "        if np.size(baddies) == 0:\n",
    "            baddies = None\n",
    "    else:\n",
    "        baddies = None\n",
    "        easy_cases = None\n",
    "\n",
    "    \n",
    "    return transcript_cov, gene_transcripts, baddies, easy_cases"
   ]
  },
  {
   "cell_type": "code",
   "execution_count": 12,
   "id": "c85c921d-845d-4a92-ba74-229ef6924830",
   "metadata": {},
   "outputs": [],
   "source": [
    "def plot_exons(subdf, mapper=None, step=10, linewidth=80):\n",
    "    subdf_exons = subdf[subdf[\"type\"] == \"exon\"]\n",
    "    start = subdf_exons[\"start\"].min()\n",
    "    end = subdf_exons[\"end\"].max()\n",
    "\n",
    "    seqs = dict()\n",
    "    seqs[\"loc\"] = \"\".join(f\"{d: <10}\" for d in range(start, end - step + 1, step))\n",
    "    seqs[\"markers\"] = \"\".join([\"|\" if i % 10 == 0 else \" \" for i in range(len(seqs[\"loc\"]))])\n",
    "\n",
    "    for tid, subdf2 in subdf.groupby(\"transcript\"):\n",
    "        subdf2_exons = subdf2[subdf2[\"type\"] == \"exon\"]\n",
    "        seq = np.array([\" \" for _ in range(end - start)])\n",
    "\n",
    "        last_end = None\n",
    "        for i, e in subdf2_exons.iterrows():\n",
    "            seq[e[\"start\"] - start: e[\"end\"] - start] = e[\"strand\"][0]\n",
    "            if last_end is None:\n",
    "                last_end = e[\"end\"] - start\n",
    "            else:\n",
    "                seq[last_end: e[\"start\"] - start] = \"i\"\n",
    "\n",
    "            \n",
    "\n",
    "        seq = \"\".join(seq)\n",
    "\n",
    "        compressed_string = []\n",
    "        for i in range(0, len(seq) - step + 1, step):\n",
    "            p = seq[i:i + step].count(\"+\")\n",
    "            m = seq[i:i + step].count(\"-\")\n",
    "            g = seq[i:i + step].count(\".\")\n",
    "            i = seq[i:i + step].count(\"i\")\n",
    "\n",
    "            if g >= p and g >= m and g >= i:\n",
    "                compressed_string.append(\".\")\n",
    "            elif i >= p and i >= m and i >= g:\n",
    "                compressed_string.append(\"=\")\n",
    "            elif p >= g and p >= m and p >= i:\n",
    "                compressed_string.append(\">\")\n",
    "            elif m >= g and m >= p and m >= i:\n",
    "                compressed_string.append(\"<\")\n",
    "            else:\n",
    "                compressed_string.append(\"?\")\n",
    "\n",
    "        seqs[tid] = \"\".join(compressed_string)\n",
    "\n",
    "    if mapper is not None:\n",
    "        max_mapper_len = max([len(de) for de in mapper.values()]) + 2\n",
    "    else:\n",
    "        max_mapper_len = 0\n",
    "        mapper = {id_: \"\" for id_ in seqs.keys()}\n",
    "    \n",
    "    max_id_len = max([len(id_) for id_ in seqs.keys()])\n",
    "    \n",
    "    for start in range(0, len(compressed_string) -  1, linewidth):\n",
    "        end = start + linewidth\n",
    "    \n",
    "        for id_, seq in seqs.items():\n",
    "            decision = mapper.get(id_, \"\")\n",
    "            print(f\"{decision:<{max_mapper_len}}{id_: >{max_id_len}}  \", seq[start:end])\n",
    "\n",
    "        print()"
   ]
  },
  {
   "cell_type": "code",
   "execution_count": 13,
   "id": "ed495e8d-dac3-4c66-b54f-8d4aa6251eb4",
   "metadata": {},
   "outputs": [],
   "source": [
    "def plot_transcripts(subdf, mapper=None, step=100, linewidth=80):\n",
    "    subdf_transcripts = subdf[subdf[\"type\"] == \"transcript\"]\n",
    "    start = subdf_transcripts[\"start\"].min()\n",
    "    end = subdf_transcripts[\"end\"].max()\n",
    "\n",
    "    seqs = dict()\n",
    "    seqs[\"loc\"] = \"\".join(f\"{d: <10}\" for d in range(start, end - step + 1, step))\n",
    "    seqs[\"markers\"] = \"\".join([\"|\" if i % 10 == 0 else \" \" for i in range(len(seqs[\"loc\"]))])\n",
    "\n",
    "    for tid, subdf2 in subdf.groupby(\"transcript\"):\n",
    "\n",
    "        subdf2_transcript = subdf2[subdf2[\"type\"] == \"transcript\"]\n",
    "        seq = np.array([\" \" for _ in range(end - start)])\n",
    "\n",
    "        for i, e in subdf2_transcript.iterrows():\n",
    "            seq[e[\"start\"] - start: e[\"end\"] - start] = e[\"strand\"][0]\n",
    "            \n",
    "        seq = \"\".join(seq)\n",
    "\n",
    "        compressed_string = []\n",
    "        for i in range(0, len(seq) - step + 1, step):\n",
    "            p = seq[i:i + step].count(\"+\")\n",
    "            m = seq[i:i + step].count(\"-\")\n",
    "            g = seq[i:i + step].count(\".\")\n",
    "\n",
    "            if g >= p and g >= m:\n",
    "                compressed_string.append(\".\")\n",
    "            elif p > g and p > m:\n",
    "                compressed_string.append(\">\")\n",
    "            elif m > g and m > p:\n",
    "                compressed_string.append(\"<\")\n",
    "            else:\n",
    "                raise ValueError(\"this shouldn't happen\")\n",
    "\n",
    "        seqs[tid] = \"\".join(compressed_string)\n",
    "\n",
    "    if mapper is not None:\n",
    "        max_mapper_len = max([len(de) for de in mapper.values()]) + 2\n",
    "    else:\n",
    "        max_mapper_len = 0\n",
    "        mapper = {id_: \"\" for id_ in seqs.keys()}\n",
    "    \n",
    "    max_id_len = max([len(id_) for id_ in seqs.keys()])\n",
    "    \n",
    "    for start in range(0, len(compressed_string) -  1, linewidth):\n",
    "        end = start + linewidth\n",
    "    \n",
    "        for id_, seq in seqs.items():\n",
    "            decision = mapper.get(id_, \"\")\n",
    "            print(f\"{decision:<{max_mapper_len}}{id_: >{max_id_len}}  \", seq[start:end])"
   ]
  },
  {
   "cell_type": "code",
   "execution_count": 14,
   "id": "b82a82c2-6e6b-48b1-9c4c-642f09c7fc05",
   "metadata": {
    "tags": []
   },
   "outputs": [],
   "source": [
    "def get_bad_order(transcript_cov, bad_indices, good_prefix=\"sscl\"):\n",
    "    id_order = transcript_cov.sum(axis=1).sort_values(ascending=True).index\n",
    "    id_order = id_order[~pd.isna(id_order)].tolist()\n",
    "    if bad_indices is None:\n",
    "        id_order = [\n",
    "            c\n",
    "            for c\n",
    "            in transcript_cov\n",
    "            if not c.lower().startswith(good_prefix)\n",
    "        ]\n",
    "    else:\n",
    "        id_order = [\n",
    "            c\n",
    "            for c\n",
    "            in transcript_cov\n",
    "            if ((c in bad_indices) and not c.lower().startswith(good_prefix))\n",
    "        ]\n",
    "\n",
    "    return id_order"
   ]
  },
  {
   "cell_type": "code",
   "execution_count": 15,
   "id": "55f2337b-5f3a-4593-854d-bd57eb65c36a",
   "metadata": {
    "tags": []
   },
   "outputs": [],
   "source": [
    "def get_response(worst, subdf=None, linewidth=80):\n",
    "    response = None\n",
    "    \n",
    "    worst = list(reversed(worst))\n",
    "    while response not in (\"y\", \"n\"):\n",
    "        if len(worst) == 1:\n",
    "            print(f\"\\nDelete [y] or keep [n] the worst option {worst[0]}.\")\n",
    "            print(\"You can also print the exon structure with [p].\")\n",
    "        else:\n",
    "            print(f\"\\nDelete [y] or keep [n] the worst option {worst[0]}, select an index, keep all [r], or delete all [a].\")\n",
    "            print(\"You can also print the exon structure with [p].\")\n",
    "            for h, i in enumerate(worst):\n",
    "                print(f\"- {h}: {i}\")\n",
    "\n",
    "        response = input(\"\\nresponse: \")\n",
    "        response = response.strip().lower()\n",
    "\n",
    "        try:\n",
    "            response_int = int(response)\n",
    "        except:\n",
    "            response_int = None\n",
    "        \n",
    "        if response in [\"n\", \"k\"]:\n",
    "            return worst[0], \"keep\"\n",
    "        elif response in [\"y\", \"d\"]:\n",
    "            return worst[0], \"delete\"\n",
    "        elif response in [\"a\", \"da\"]:\n",
    "            return worst, \"delete_all\"\n",
    "        elif response in [\"r\", \"ka\"]:\n",
    "            return worst, \"keep_all\"\n",
    "        elif response in [\"e\", \"p\", \"print\", \"exons\"]:\n",
    "            assert subdf is not None, \"If printing exons you need to have provided the subdf\"\n",
    "            print(\"\\nExons:\")\n",
    "            plot_exons(subdf, step=10, linewidth=linewidth)\n",
    "            return get_response(worst, subdf=subdf, linewidth=linewidth)\n",
    "\n",
    "        elif (response in worst) or ((response_int is not None) and (response_int < len(worst))):\n",
    "            if response_int is not None:\n",
    "                response = worst[response_int]\n",
    "\n",
    "            response2 = \"h\"\n",
    "            while response2 not in (\"y\", \"n\", \"k\", \"d\", \"r\"):\n",
    "                response2 = input(f\"\\ndelete {response} [y], keep [n], or go back and reselect [r]?: \")\n",
    "\n",
    "            if response2 in (\"n\", \"k\"):\n",
    "                return response, \"keep\"\n",
    "            elif response2 in (\"y\", \"d\"):\n",
    "                return response, \"delete\""
   ]
  },
  {
   "cell_type": "code",
   "execution_count": 16,
   "id": "a741ddf8-f45e-4993-9c9c-079a85ead676",
   "metadata": {
    "tags": []
   },
   "outputs": [],
   "source": [
    "joining_exceptions = set()\n",
    "joining_transcripts = set()"
   ]
  },
  {
   "cell_type": "raw",
   "id": "3a5dedaa-c55d-4dd3-93f4-8c8c5d0dd7bf",
   "metadata": {
    "tags": []
   },
   "source": [
    "for gene_id, subdf in gtf.groupby(\"gene_id\"):\n",
    "    subdf = subdf[~subdf[\"transcript\"].isin(joining_transcripts | joining_exceptions)]\n",
    "    transcript_cov, gene_transcripts, baddies, easy_cases = is_bad(subdf, transcript_indices, coverages, good_prefix = \"sscl\")\n",
    "\n",
    "    if easy_cases is not None:\n",
    "        joining_transcripts.update(easy_cases)\n",
    "\n",
    "    if baddies is None:\n",
    "        continue\n",
    "    elif np.size(baddies) == 0:\n",
    "        continue\n",
    "    \n",
    "    baddies = np.setdiff1d(baddies, joining_exceptions)\n",
    "    if baddies is None:\n",
    "        continue\n",
    "\n",
    "    bad_order = get_bad_order(transcript_cov, baddies, good_prefix=\"sscl\")\n",
    "\n",
    "    # Exclude the easy cases\n",
    "    subdf = subdf[~subdf[\"transcript\"].isin(joining_transcripts | joining_exceptions)]\n",
    "    \n",
    "    while len(bad_order) > 0 and (baddies is not None):\n",
    "        \n",
    "        current_baddie = bad_order[-1]\n",
    "\n",
    "        print(f\"# Processing: {gene_id}\")\n",
    "\n",
    "        #print(\n",
    "        #    subdf[\"transcript type start end\".split()]\n",
    "        #        .sort_values(\"transcript start end\".split())\n",
    "        #        .set_index(\"transcript\")\n",
    "        #)\n",
    "        \n",
    "        if easy_cases is not None:\n",
    "            print(\"\\nAlready excluded easy cases:\")\n",
    "            for e in easy_cases:\n",
    "                print(\"-\", e)\n",
    "\n",
    "        print(\"\\nCoverage:\")\n",
    "        print(transcript_cov)\n",
    "        print()\n",
    "        plot_transcripts(subdf, step=100, linewidth=LINEWIDTH)\n",
    "            \n",
    "        response, action = get_response(baddies, subdf)\n",
    "\n",
    "        if action == \"delete\":\n",
    "            joining_transcripts.add(response)\n",
    "        elif action == \"delete_all\":\n",
    "            joining_transcripts.update(response)\n",
    "        elif action == \"keep\":\n",
    "            joining_exceptions.add(response)\n",
    "        elif action == \"keep_all\":\n",
    "            joining_exceptions.update(response)\n",
    "        else:\n",
    "            print(response, action)\n",
    "            raise ValueError(\"failed\")\n",
    "\n",
    "        subdf = subdf[~subdf[\"transcript\"].isin(joining_transcripts | joining_exceptions)]\n",
    "        transcript_cov, gene_transcripts, baddies, easy_cases = is_bad(\n",
    "            subdf,\n",
    "            transcript_indices,\n",
    "            coverages,\n",
    "            good_prefix = \"sscl\"\n",
    "        )\n",
    "\n",
    "        if easy_cases is not None:\n",
    "            joining_transcripts.update(easy_cases)\n",
    "\n",
    "        if baddies is None:\n",
    "            continue\n",
    "        elif np.size(baddies) == 0:\n",
    "            continue\n",
    "\n",
    "        baddies = np.setdiff1d(baddies, joining_exceptions)\n",
    "        if baddies is None:\n",
    "            continue\n",
    "        \n",
    "        bad_order = get_bad_order(transcript_cov, baddies, good_prefix=\"sscl\")\n",
    "        \n",
    "        print(\"\\n###################################\")\n",
    "\n",
    "    clear_output()\n",
    "    \n",
    "with open(\"basic_overlap_filter.json\", \"w\") as handle:\n",
    "    json.dump({\"exceptions\": list(joining_exceptions), \"baddies\": list(joining_transcripts)}, handle)"
   ]
  },
  {
   "cell_type": "code",
   "execution_count": 17,
   "id": "42cf2b72-84b6-4ac3-b496-9d1286be1cf2",
   "metadata": {},
   "outputs": [],
   "source": [
    "with open(\"basic_overlap_filter.json\", \"r\") as handle:\n",
    "    d = json.load(handle)\n",
    "    joining_exceptions = set(d[\"exceptions\"])\n",
    "    joining_transcripts = set(d[\"baddies\"])"
   ]
  },
  {
   "cell_type": "markdown",
   "id": "ec424ba8-3fe0-42a1-950c-b11f2e40952a",
   "metadata": {},
   "source": [
    "Now I want to check that the excluded and included entries are actually ok.\n",
    "Mistakes happen."
   ]
  },
  {
   "cell_type": "code",
   "execution_count": 18,
   "id": "6b3fdfe1-ad43-4066-91f6-13ed12722ef1",
   "metadata": {},
   "outputs": [
    {
     "data": {
      "text/html": [
       "<div>\n",
       "<style scoped>\n",
       "    .dataframe tbody tr th:only-of-type {\n",
       "        vertical-align: middle;\n",
       "    }\n",
       "\n",
       "    .dataframe tbody tr th {\n",
       "        vertical-align: top;\n",
       "    }\n",
       "\n",
       "    .dataframe thead th {\n",
       "        text-align: right;\n",
       "    }\n",
       "</style>\n",
       "<table border=\"1\" class=\"dataframe\">\n",
       "  <thead>\n",
       "    <tr style=\"text-align: right;\">\n",
       "      <th></th>\n",
       "      <th>seqid</th>\n",
       "      <th>source</th>\n",
       "      <th>type</th>\n",
       "      <th>start</th>\n",
       "      <th>end</th>\n",
       "      <th>score</th>\n",
       "      <th>strand</th>\n",
       "      <th>phase</th>\n",
       "      <th>transcript</th>\n",
       "      <th>gene_id</th>\n",
       "      <th>ref_gene_id</th>\n",
       "    </tr>\n",
       "  </thead>\n",
       "  <tbody>\n",
       "    <tr>\n",
       "      <th>6</th>\n",
       "      <td>chr01</td>\n",
       "      <td>StringTie</td>\n",
       "      <td>exon</td>\n",
       "      <td>295</td>\n",
       "      <td>2294</td>\n",
       "      <td>1000</td>\n",
       "      <td>+</td>\n",
       "      <td>.</td>\n",
       "      <td>MSTRG.2.1</td>\n",
       "      <td>MSTRG.2</td>\n",
       "      <td>&lt;NA&gt;</td>\n",
       "    </tr>\n",
       "    <tr>\n",
       "      <th>5</th>\n",
       "      <td>chr01</td>\n",
       "      <td>StringTie</td>\n",
       "      <td>transcript</td>\n",
       "      <td>295</td>\n",
       "      <td>6460</td>\n",
       "      <td>1000</td>\n",
       "      <td>+</td>\n",
       "      <td>.</td>\n",
       "      <td>MSTRG.2.1</td>\n",
       "      <td>MSTRG.2</td>\n",
       "      <td>&lt;NA&gt;</td>\n",
       "    </tr>\n",
       "    <tr>\n",
       "      <th>7</th>\n",
       "      <td>chr01</td>\n",
       "      <td>StringTie</td>\n",
       "      <td>exon</td>\n",
       "      <td>2374</td>\n",
       "      <td>2679</td>\n",
       "      <td>1000</td>\n",
       "      <td>+</td>\n",
       "      <td>.</td>\n",
       "      <td>MSTRG.2.1</td>\n",
       "      <td>MSTRG.2</td>\n",
       "      <td>&lt;NA&gt;</td>\n",
       "    </tr>\n",
       "    <tr>\n",
       "      <th>8</th>\n",
       "      <td>chr01</td>\n",
       "      <td>StringTie</td>\n",
       "      <td>exon</td>\n",
       "      <td>2738</td>\n",
       "      <td>5128</td>\n",
       "      <td>1000</td>\n",
       "      <td>+</td>\n",
       "      <td>.</td>\n",
       "      <td>MSTRG.2.1</td>\n",
       "      <td>MSTRG.2</td>\n",
       "      <td>&lt;NA&gt;</td>\n",
       "    </tr>\n",
       "    <tr>\n",
       "      <th>9</th>\n",
       "      <td>chr01</td>\n",
       "      <td>StringTie</td>\n",
       "      <td>exon</td>\n",
       "      <td>5186</td>\n",
       "      <td>6460</td>\n",
       "      <td>1000</td>\n",
       "      <td>+</td>\n",
       "      <td>.</td>\n",
       "      <td>MSTRG.2.1</td>\n",
       "      <td>MSTRG.2</td>\n",
       "      <td>&lt;NA&gt;</td>\n",
       "    </tr>\n",
       "  </tbody>\n",
       "</table>\n",
       "</div>"
      ],
      "text/plain": [
       "   seqid     source        type  start   end score strand phase transcript  gene_id ref_gene_id\n",
       "6  chr01  StringTie        exon    295  2294  1000      +     .  MSTRG.2.1  MSTRG.2        <NA>\n",
       "5  chr01  StringTie  transcript    295  6460  1000      +     .  MSTRG.2.1  MSTRG.2        <NA>\n",
       "7  chr01  StringTie        exon   2374  2679  1000      +     .  MSTRG.2.1  MSTRG.2        <NA>\n",
       "8  chr01  StringTie        exon   2738  5128  1000      +     .  MSTRG.2.1  MSTRG.2        <NA>\n",
       "9  chr01  StringTie        exon   5186  6460  1000      +     .  MSTRG.2.1  MSTRG.2        <NA>"
      ]
     },
     "execution_count": 18,
     "metadata": {},
     "output_type": "execute_result"
    }
   ],
   "source": [
    "gtf[gtf[\"transcript\"].isin(joining_transcripts | joining_exceptions)].head()"
   ]
  },
  {
   "cell_type": "code",
   "execution_count": 19,
   "id": "9f56161e-97a3-4840-ad0b-db7415011d1d",
   "metadata": {},
   "outputs": [],
   "source": [
    "check_done = set()\n",
    "check_responses = []"
   ]
  },
  {
   "cell_type": "code",
   "execution_count": 20,
   "id": "61f9c385-3ade-48ac-9ffd-5fa55a457bb7",
   "metadata": {},
   "outputs": [],
   "source": [
    "def get_check_response(mapper, subdf=None, linewidth=80):\n",
    "    response = None\n",
    "    # The unnecessary groupby is so that the order is the same as the plots.\n",
    "    transcripts_tmp = set(subdf[\"transcript\"])\n",
    "    transcripts = list()\n",
    "\n",
    "    for t in sorted(transcripts_tmp):\n",
    "        transcripts.append([t, mapper[t], mapper[t]])\n",
    "\n",
    "    while response not in (\"y\", \"n\"):\n",
    "        print(f\"\\n\")\n",
    "        print(\"Please decide if your previous decisions were ok.\")\n",
    "        print(\"Enter [y]=yes/keep all, [n]=no/remove all anotations, or [e] to print exon structure.\")\n",
    "        print(\"Alternatively, you can enter a number to deal with an individual sequence.\")\n",
    "\n",
    "        max_mapper_len = max([len(j) for _, _, j in transcripts]) + 2\n",
    "        max_id_len = max([len(i) for i, _, _ in transcripts])\n",
    "        for h, (i, _, j) in enumerate(transcripts):\n",
    "            print(f\"- {j:<{max_mapper_len}}{i:>{max_id_len}}: {h}\")\n",
    "\n",
    "        response = input(\"\\nresponse: \")\n",
    "        response = response.strip().lower()\n",
    "\n",
    "        try:\n",
    "            response_int = int(response)\n",
    "        except:\n",
    "            response_int = None\n",
    "\n",
    "        if response in [\"n\"]:\n",
    "            return transcripts\n",
    "        elif response in [\"y\"]:\n",
    "            return transcripts\n",
    "        elif response in [\"e\", \"p\", \"print\", \"exons\"]:\n",
    "            assert subdf is not None, \"If printing exons you need to have provided the subdf\"\n",
    "            print(\"\\nExons:\")\n",
    "            plot_exons(subdf, step=20, mapper=mapper, linewidth=linewidth)\n",
    "\n",
    "        elif (response_int is not None) and (response_int < len(transcripts)):\n",
    "            response, prev, next_ = transcripts[response_int]\n",
    "\n",
    "            print(f\"\\nEntry {response} was previously {prev}. What would you like to do with it?\")\n",
    "\n",
    "            response2 = \"h\"\n",
    "            while response2 not in (\"x\", \"d\", \"r\"):\n",
    "                response2 = input(f\"\\nEnter [x]=EXCEPTION, [d]=DELETED, [r]=RETAINED: \")\n",
    "                response2 = response2.strip().lower()\n",
    "\n",
    "            response2 = {\"x\": \"EXCEPTION\", \"d\": \"DELETED\", \"r\": \"RETAINED\"}[response2]\n",
    "            transcripts[response_int][2] = response2\n",
    "            mapper[transcripts[response_int][0]] = response2\n",
    "    return"
   ]
  },
  {
   "cell_type": "raw",
   "id": "5068ba08-3afc-470d-9fec-cb2dc5c870ea",
   "metadata": {},
   "source": [
    "\n",
    "\n",
    "\n",
    "gids = gtf.loc[gtf[\"transcript\"].isin(joining_transcripts | joining_exceptions), \"gene_id\"].unique()\n",
    "gtf2 = gtf[gtf[\"gene_id\"].isin(gids)]\n",
    "\n",
    "for gene_id, subdf in gtf2.groupby(\"gene_id\"):\n",
    "    if gene_id in check_done:\n",
    "        continue\n",
    "    transcript_cov, gene_transcripts, baddies, easy_cases = is_bad(subdf, transcript_indices, coverages, good_prefix = \"sscl\")\n",
    "\n",
    "    bad_order = get_bad_order(transcript_cov, baddies, good_prefix=\"sscl\")\n",
    "        \n",
    "    current_baddie = bad_order[-1]\n",
    "\n",
    "    print(f\"# Processing: {gene_id}\")\n",
    "\n",
    "    #print(\n",
    "    #    subdf[\"transcript type start end\".split()]\n",
    "    #        .sort_values(\"transcript start end\".split())\n",
    "    #        .set_index(\"transcript\")\n",
    "    #)\n",
    "    \n",
    "    mapper = {}\n",
    "    for t in set(subdf[\"transcript\"]):\n",
    "        if t in joining_exceptions:\n",
    "            mapper[t] = \"EXCEPTION\"\n",
    "        elif t in joining_transcripts:\n",
    "            mapper[t] = \"DELETED\"\n",
    "        else:\n",
    "            mapper[t] = \"RETAINED\"\n",
    "\n",
    "    print(\"\\nCoverage:\")\n",
    "    print(transcript_cov)\n",
    "    print()\n",
    "    plot_transcripts(subdf, step=100, mapper=mapper, linewidth=LINEWIDTH)\n",
    "\n",
    "    r = get_check_response(mapper, subdf=subdf, linewidth=LINEWIDTH)\n",
    "    check_responses.extend(r)\n",
    "    check_done.add(gene_id)\n",
    "\n",
    "    print(\"\\n###################################\")\n",
    "    clear_output()\n",
    "\n",
    "with open(\"basic_overlap_filter_check.json\", \"w\") as handle:\n",
    "    json.dump(check_responses, handle)"
   ]
  },
  {
   "cell_type": "code",
   "execution_count": 21,
   "id": "22b81a6b-ed07-49b9-842c-744ad36cb774",
   "metadata": {},
   "outputs": [],
   "source": [
    "with open(\"basic_overlap_filter_check.json\", \"r\") as handle:\n",
    "    check_responses = json.load(handle)"
   ]
  },
  {
   "cell_type": "code",
   "execution_count": 22,
   "id": "a25fb94e-4e79-4b4b-b573-2360e498458d",
   "metadata": {},
   "outputs": [],
   "source": [
    "responses = {\n",
    "    tid\n",
    "    for tid, _, decision\n",
    "    in check_responses\n",
    "    if decision == \"DELETED\"\n",
    "}"
   ]
  },
  {
   "cell_type": "markdown",
   "id": "1eb9e63a-8de2-4cb6-be27-1a8ae8d29ec6",
   "metadata": {},
   "source": [
    "Ok so i've curated a bunch of genes that are causing joining.\n",
    "Now I need to assign new gene ids"
   ]
  },
  {
   "cell_type": "markdown",
   "id": "1b56e4ae-2c02-4ec9-b7df-1f87426a526c",
   "metadata": {},
   "source": [
    "## Another check for overlapping genes."
   ]
  },
  {
   "cell_type": "markdown",
   "id": "49e147a0-ff7c-4041-950c-b3f62a435d1b",
   "metadata": {},
   "source": [
    "How many transcripts do we now have?"
   ]
  },
  {
   "cell_type": "code",
   "execution_count": 23,
   "id": "ae925ddf-0d08-4424-a4c1-4779128ec9e4",
   "metadata": {
    "tags": []
   },
   "outputs": [
    {
     "data": {
      "text/plain": [
       "21893"
      ]
     },
     "execution_count": 23,
     "metadata": {},
     "output_type": "execute_result"
    }
   ],
   "source": [
    "gtf.loc[~gtf[\"transcript\"].isin(responses), \"transcript\"].nunique()"
   ]
  },
  {
   "cell_type": "code",
   "execution_count": null,
   "id": "22e7e8a1-a34b-41cc-91fe-99eefab5b539",
   "metadata": {},
   "outputs": [],
   "source": []
  },
  {
   "cell_type": "code",
   "execution_count": null,
   "id": "97c69952-5296-4b59-b265-52482f37a773",
   "metadata": {},
   "outputs": [],
   "source": []
  },
  {
   "cell_type": "code",
   "execution_count": 24,
   "id": "1689d90e-7e14-4d5d-bad0-41a5a7a6bf30",
   "metadata": {
    "tags": []
   },
   "outputs": [
    {
     "data": {
      "text/html": [
       "<div>\n",
       "<style scoped>\n",
       "    .dataframe tbody tr th:only-of-type {\n",
       "        vertical-align: middle;\n",
       "    }\n",
       "\n",
       "    .dataframe tbody tr th {\n",
       "        vertical-align: top;\n",
       "    }\n",
       "\n",
       "    .dataframe thead th {\n",
       "        text-align: right;\n",
       "    }\n",
       "</style>\n",
       "<table border=\"1\" class=\"dataframe\">\n",
       "  <thead>\n",
       "    <tr style=\"text-align: right;\">\n",
       "      <th></th>\n",
       "      <th>seqid</th>\n",
       "      <th>source</th>\n",
       "      <th>type</th>\n",
       "      <th>start</th>\n",
       "      <th>end</th>\n",
       "      <th>score</th>\n",
       "      <th>strand</th>\n",
       "      <th>phase</th>\n",
       "      <th>transcript</th>\n",
       "      <th>gene_id</th>\n",
       "      <th>ref_gene_id</th>\n",
       "    </tr>\n",
       "  </thead>\n",
       "  <tbody>\n",
       "    <tr>\n",
       "      <th>0</th>\n",
       "      <td>chr01</td>\n",
       "      <td>StringTie</td>\n",
       "      <td>exon</td>\n",
       "      <td>178</td>\n",
       "      <td>345</td>\n",
       "      <td>1000</td>\n",
       "      <td>-</td>\n",
       "      <td>.</td>\n",
       "      <td>MSTRG.1.1</td>\n",
       "      <td>MSTRG.1</td>\n",
       "      <td>&lt;NA&gt;</td>\n",
       "    </tr>\n",
       "    <tr>\n",
       "      <th>1</th>\n",
       "      <td>chr01</td>\n",
       "      <td>StringTie</td>\n",
       "      <td>transcript</td>\n",
       "      <td>178</td>\n",
       "      <td>1742</td>\n",
       "      <td>1000</td>\n",
       "      <td>-</td>\n",
       "      <td>.</td>\n",
       "      <td>MSTRG.1.1</td>\n",
       "      <td>MSTRG.1</td>\n",
       "      <td>&lt;NA&gt;</td>\n",
       "    </tr>\n",
       "    <tr>\n",
       "      <th>2</th>\n",
       "      <td>chr01</td>\n",
       "      <td>StringTie</td>\n",
       "      <td>exon</td>\n",
       "      <td>312</td>\n",
       "      <td>882</td>\n",
       "      <td>1000</td>\n",
       "      <td>+</td>\n",
       "      <td>.</td>\n",
       "      <td>MSTRG.2.2</td>\n",
       "      <td>MSTRG.2</td>\n",
       "      <td>&lt;NA&gt;</td>\n",
       "    </tr>\n",
       "    <tr>\n",
       "      <th>3</th>\n",
       "      <td>chr01</td>\n",
       "      <td>StringTie</td>\n",
       "      <td>transcript</td>\n",
       "      <td>312</td>\n",
       "      <td>4746</td>\n",
       "      <td>1000</td>\n",
       "      <td>+</td>\n",
       "      <td>.</td>\n",
       "      <td>MSTRG.2.2</td>\n",
       "      <td>MSTRG.2</td>\n",
       "      <td>&lt;NA&gt;</td>\n",
       "    </tr>\n",
       "    <tr>\n",
       "      <th>4</th>\n",
       "      <td>chr01</td>\n",
       "      <td>StringTie</td>\n",
       "      <td>transcript</td>\n",
       "      <td>415</td>\n",
       "      <td>1742</td>\n",
       "      <td>1000</td>\n",
       "      <td>-</td>\n",
       "      <td>.</td>\n",
       "      <td>sscle_01g000010</td>\n",
       "      <td>MSTRG.1</td>\n",
       "      <td>gene-sscle_01g000010</td>\n",
       "    </tr>\n",
       "  </tbody>\n",
       "</table>\n",
       "</div>"
      ],
      "text/plain": [
       "   seqid     source        type  start   end score strand phase       transcript  gene_id           ref_gene_id\n",
       "0  chr01  StringTie        exon    178   345  1000      -     .        MSTRG.1.1  MSTRG.1                  <NA>\n",
       "1  chr01  StringTie  transcript    178  1742  1000      -     .        MSTRG.1.1  MSTRG.1                  <NA>\n",
       "2  chr01  StringTie        exon    312   882  1000      +     .        MSTRG.2.2  MSTRG.2                  <NA>\n",
       "3  chr01  StringTie  transcript    312  4746  1000      +     .        MSTRG.2.2  MSTRG.2                  <NA>\n",
       "4  chr01  StringTie  transcript    415  1742  1000      -     .  sscle_01g000010  MSTRG.1  gene-sscle_01g000010"
      ]
     },
     "execution_count": 24,
     "metadata": {},
     "output_type": "execute_result"
    }
   ],
   "source": [
    "gtf2 = gtf.loc[~gtf[\"transcript\"].isin(responses),].reset_index(drop=True)\n",
    "gtf2.head()"
   ]
  },
  {
   "cell_type": "markdown",
   "id": "e6957c10-e3b7-4dc8-9b13-c527e8abb0a0",
   "metadata": {},
   "source": [
    "From here it's relatively easy to find overlapping sets."
   ]
  },
  {
   "cell_type": "code",
   "execution_count": 25,
   "id": "f02b5ff2-3117-4cef-a7ba-c004753bceae",
   "metadata": {},
   "outputs": [],
   "source": [
    "itrees = defaultdict(IntervalTree)\n",
    "transcript_indices = dict()\n",
    "indices_transcript = list()\n",
    "\n",
    "for i, row in gtf2[gtf2[\"type\"] == \"transcript\"].reset_index().iterrows():\n",
    "    transcript = row[\"transcript\"]\n",
    "    transcript_indices[transcript] = i\n",
    "    indices_transcript.append(transcript)\n",
    "    itrees[(row[\"seqid\"], row[\"strand\"])].add(Interval(row[\"start\"], row[\"end\"], data=transcript))\n",
    "\n",
    "def reducer(x, y):\n",
    "    if isinstance(x, str):\n",
    "        x = {x}\n",
    "    elif x is None:\n",
    "        x = set()\n",
    "        \n",
    "    x.add(y)\n",
    "    return x\n",
    "    \n",
    "for itree in itrees.values():\n",
    "    itree.merge_overlaps(data_reducer=reducer, data_initializer=set())"
   ]
  },
  {
   "cell_type": "code",
   "execution_count": 26,
   "id": "85980a1d-ea8d-455a-bf29-d6e13d47cc77",
   "metadata": {},
   "outputs": [],
   "source": [
    "new_genes = {}\n",
    "i = 1\n",
    "\n",
    "for itree in itrees.values():\n",
    "    for interval in sorted(itree, key=lambda x: x.begin):\n",
    "        gene_id = f\"AS{i:0>5}\"\n",
    "        i += 1\n",
    "        \n",
    "        for tid in interval.data:\n",
    "            new_genes[tid] = gene_id       "
   ]
  },
  {
   "cell_type": "code",
   "execution_count": 27,
   "id": "1d20cd6b-44fb-4a0c-8146-5448e664831a",
   "metadata": {},
   "outputs": [
    {
     "data": {
      "text/html": [
       "<div>\n",
       "<style scoped>\n",
       "    .dataframe tbody tr th:only-of-type {\n",
       "        vertical-align: middle;\n",
       "    }\n",
       "\n",
       "    .dataframe tbody tr th {\n",
       "        vertical-align: top;\n",
       "    }\n",
       "\n",
       "    .dataframe thead th {\n",
       "        text-align: right;\n",
       "    }\n",
       "</style>\n",
       "<table border=\"1\" class=\"dataframe\">\n",
       "  <thead>\n",
       "    <tr style=\"text-align: right;\">\n",
       "      <th></th>\n",
       "      <th>seqid</th>\n",
       "      <th>source</th>\n",
       "      <th>type</th>\n",
       "      <th>start</th>\n",
       "      <th>end</th>\n",
       "      <th>score</th>\n",
       "      <th>strand</th>\n",
       "      <th>phase</th>\n",
       "      <th>transcript</th>\n",
       "      <th>gene_id</th>\n",
       "      <th>ref_gene_id</th>\n",
       "      <th>new_gene_id</th>\n",
       "    </tr>\n",
       "  </thead>\n",
       "  <tbody>\n",
       "    <tr>\n",
       "      <th>0</th>\n",
       "      <td>chr01</td>\n",
       "      <td>StringTie</td>\n",
       "      <td>exon</td>\n",
       "      <td>178</td>\n",
       "      <td>345</td>\n",
       "      <td>1000</td>\n",
       "      <td>-</td>\n",
       "      <td>.</td>\n",
       "      <td>MSTRG.1.1</td>\n",
       "      <td>MSTRG.1</td>\n",
       "      <td>&lt;NA&gt;</td>\n",
       "      <td>AS00001</td>\n",
       "    </tr>\n",
       "    <tr>\n",
       "      <th>1</th>\n",
       "      <td>chr01</td>\n",
       "      <td>StringTie</td>\n",
       "      <td>transcript</td>\n",
       "      <td>178</td>\n",
       "      <td>1742</td>\n",
       "      <td>1000</td>\n",
       "      <td>-</td>\n",
       "      <td>.</td>\n",
       "      <td>MSTRG.1.1</td>\n",
       "      <td>MSTRG.1</td>\n",
       "      <td>&lt;NA&gt;</td>\n",
       "      <td>AS00001</td>\n",
       "    </tr>\n",
       "    <tr>\n",
       "      <th>2</th>\n",
       "      <td>chr01</td>\n",
       "      <td>StringTie</td>\n",
       "      <td>exon</td>\n",
       "      <td>312</td>\n",
       "      <td>882</td>\n",
       "      <td>1000</td>\n",
       "      <td>+</td>\n",
       "      <td>.</td>\n",
       "      <td>MSTRG.2.2</td>\n",
       "      <td>MSTRG.2</td>\n",
       "      <td>&lt;NA&gt;</td>\n",
       "      <td>AS00775</td>\n",
       "    </tr>\n",
       "    <tr>\n",
       "      <th>3</th>\n",
       "      <td>chr01</td>\n",
       "      <td>StringTie</td>\n",
       "      <td>transcript</td>\n",
       "      <td>312</td>\n",
       "      <td>4746</td>\n",
       "      <td>1000</td>\n",
       "      <td>+</td>\n",
       "      <td>.</td>\n",
       "      <td>MSTRG.2.2</td>\n",
       "      <td>MSTRG.2</td>\n",
       "      <td>&lt;NA&gt;</td>\n",
       "      <td>AS00775</td>\n",
       "    </tr>\n",
       "    <tr>\n",
       "      <th>4</th>\n",
       "      <td>chr01</td>\n",
       "      <td>StringTie</td>\n",
       "      <td>transcript</td>\n",
       "      <td>415</td>\n",
       "      <td>1742</td>\n",
       "      <td>1000</td>\n",
       "      <td>-</td>\n",
       "      <td>.</td>\n",
       "      <td>sscle_01g000010</td>\n",
       "      <td>MSTRG.1</td>\n",
       "      <td>gene-sscle_01g000010</td>\n",
       "      <td>AS00001</td>\n",
       "    </tr>\n",
       "  </tbody>\n",
       "</table>\n",
       "</div>"
      ],
      "text/plain": [
       "   seqid     source        type  start   end score strand phase       transcript  gene_id           ref_gene_id new_gene_id\n",
       "0  chr01  StringTie        exon    178   345  1000      -     .        MSTRG.1.1  MSTRG.1                  <NA>     AS00001\n",
       "1  chr01  StringTie  transcript    178  1742  1000      -     .        MSTRG.1.1  MSTRG.1                  <NA>     AS00001\n",
       "2  chr01  StringTie        exon    312   882  1000      +     .        MSTRG.2.2  MSTRG.2                  <NA>     AS00775\n",
       "3  chr01  StringTie  transcript    312  4746  1000      +     .        MSTRG.2.2  MSTRG.2                  <NA>     AS00775\n",
       "4  chr01  StringTie  transcript    415  1742  1000      -     .  sscle_01g000010  MSTRG.1  gene-sscle_01g000010     AS00001"
      ]
     },
     "execution_count": 27,
     "metadata": {},
     "output_type": "execute_result"
    }
   ],
   "source": [
    "gtf2[\"new_gene_id\"] = gtf2[\"transcript\"].apply(new_genes.get)\n",
    "gtf2.head()"
   ]
  },
  {
   "cell_type": "markdown",
   "id": "5b5738c6-07ca-4474-a211-f830330cb39c",
   "metadata": {},
   "source": [
    "Now i can find genes with multiple ref_gene_ids."
   ]
  },
  {
   "cell_type": "code",
   "execution_count": 28,
   "id": "18f4dee8-1791-4cd6-bddb-848edf79af86",
   "metadata": {},
   "outputs": [
    {
     "data": {
      "text/plain": [
       "new_gene_id\n",
       "AS00292    2\n",
       "AS00563    2\n",
       "AS01432    2\n",
       "AS01603    2\n",
       "AS02952    2\n",
       "AS04530    3\n",
       "AS04709    3\n",
       "AS05330    2\n",
       "AS05956    2\n",
       "AS06269    3\n",
       "AS06672    5\n",
       "AS07931    3\n",
       "AS09271    3\n",
       "AS09975    3\n",
       "AS10013    3\n",
       "AS10209    3\n",
       "AS12354    2\n",
       "AS12826    3\n",
       "AS13467    2\n",
       "Name: transcript, dtype: int64"
      ]
     },
     "execution_count": 28,
     "metadata": {},
     "output_type": "execute_result"
    }
   ],
   "source": [
    "new_loci = gtf2[gtf2[\"ref_gene_id\"].notnull()].groupby(\"new_gene_id\")[\"transcript\"].nunique()\n",
    "new_loci[new_loci > 1]"
   ]
  },
  {
   "cell_type": "code",
   "execution_count": 29,
   "id": "61d44069-7c08-4630-aec2-25d71d5aa67d",
   "metadata": {},
   "outputs": [
    {
     "name": "stdout",
     "output_type": "stream",
     "text": [
      "            loc   1461992   1462092   1462192   1462292   1462392   1462492   1462592   1462692   \n",
      "        markers   |         |         |         |         |         |         |         |         \n",
      "    MSTRG.460.3   <<<<<<<<<<<<<<<<<<<<<<<<<<<<<<<<<<<<<<<<<<<<<<<<<<<<<<<<<<<<<<<<\n",
      "    MSTRG.460.4   <<<<<<<<<<<<<<<<<<<<<<<<<<<<<<<<<<<<<<<<<<<<<<<<<<<<<<<<<<<<<<<<\n",
      "    MSTRG.460.5   <<<<<<<<<<<<<<<<<<<<<<<<<<<<<<<<<<<<<<<<<<<<<<<<<<<<<<<<<<<<<<<<\n",
      "sscle_01g004240   ..<<<<<<<<<<<<<<<<<<<<<<<<<<<<<<<<<<<<..........................\n",
      "sscle_01g004250   ......................................................<<<<<<<<<<\n",
      "['MSTRG.460.3' 'MSTRG.460.4' 'MSTRG.460.5']\n"
     ]
    }
   ],
   "source": [
    "gid = \"AS00292\"\n",
    "\n",
    "plot_transcripts(gtf2[gtf2[\"new_gene_id\"] == gid])\n",
    "x = gtf2.loc[(gtf2[\"new_gene_id\"] == gid) & pd.isnull(gtf2[\"ref_gene_id\"]), \"transcript\"].unique()\n",
    "\n",
    "print(x)"
   ]
  },
  {
   "cell_type": "code",
   "execution_count": 30,
   "id": "6a5ef92c-982e-4a9b-885b-eb770d7db3f3",
   "metadata": {},
   "outputs": [],
   "source": [
    "responses.update(x)"
   ]
  },
  {
   "cell_type": "code",
   "execution_count": 31,
   "id": "f16a6558-4219-49fc-a7bf-6d46545aaa9d",
   "metadata": {},
   "outputs": [
    {
     "name": "stdout",
     "output_type": "stream",
     "text": [
      "            loc   2871825   2871925   2872025   2872125   2872225   2872325   2872425   2872525   \n",
      "        markers   |         |         |         |         |         |         |         |         \n",
      "    MSTRG.916.1   <<<<<<<<<<<<<<<<<<<<<<<<<<<<<<<<<<<<<<<<<<<<<<<<<<<<<<<<<<<<<<<<<<<<<<<<<<<<<<<<\n",
      "    MSTRG.921.1   ................................................................................\n",
      "sscle_01g008440   ................................................................................\n",
      "sscle_01g008460   ................................................................................\n",
      "            loc   2872625   2872725   2872825   2872925   2873025   2873125   2873225   2873325   \n",
      "        markers   |         |         |         |         |         |         |         |         \n",
      "    MSTRG.916.1   <<<<<<<<<<<<<<<<<<<<<<<<<<<<<<<<<<<<<<<<<<<<<<<<<<<<<<<<<<<<<<<<<<<<<<<<<<<<<<<<\n",
      "    MSTRG.921.1   ...............<<<<<<<<<<<<<<<<<<<<.............................................\n",
      "sscle_01g008440   ........................<<<<<<<<<<<.............................................\n",
      "sscle_01g008460   ................................................................................\n",
      "            loc   2873425   2873525   2873625   2873725   2873825   2873925   2874025   2874125   \n",
      "        markers   |         |         |         |         |         |         |         |         \n",
      "    MSTRG.916.1   <<<<<<<<<<<<<<<<<<<<<<<<<<<<<<<<<<<<<<<<\n",
      "    MSTRG.921.1   ........................................\n",
      "sscle_01g008440   ........................................\n",
      "sscle_01g008460   ..............<<<<<<<<<<<<<<<<<<<<<<<<<<\n"
     ]
    },
    {
     "data": {
      "text/plain": [
       "array(['MSTRG.916.1', 'MSTRG.921.1'], dtype=object)"
      ]
     },
     "execution_count": 31,
     "metadata": {},
     "output_type": "execute_result"
    }
   ],
   "source": [
    "gid = \"AS00563\"\n",
    "\n",
    "plot_transcripts(gtf2[gtf2[\"new_gene_id\"] == gid])\n",
    "x = gtf2.loc[(gtf2[\"new_gene_id\"] == gid) & pd.isnull(gtf2[\"ref_gene_id\"]), \"transcript\"].unique()\n",
    "x"
   ]
  },
  {
   "cell_type": "code",
   "execution_count": 32,
   "id": "77700589-386a-4321-94ca-27979af48cca",
   "metadata": {},
   "outputs": [],
   "source": [
    "responses.add(\"MSTRG.916.1\")"
   ]
  },
  {
   "cell_type": "code",
   "execution_count": 33,
   "id": "6b967e4a-4575-443a-b63c-55c5777c7b63",
   "metadata": {},
   "outputs": [
    {
     "name": "stdout",
     "output_type": "stream",
     "text": [
      "            loc   3519670   3519770   3519870   3519970   3520070   3520170   3520270   3520370   \n",
      "        markers   |         |         |         |         |         |         |         |         \n",
      "   MSTRG.1116.4   >>>>>>>>>>>>>>>>>>>>>>>>>>>>>.............\n",
      "sscle_01g010320   .....>>>>>>>>>>>>>>>>>>>>>>...............\n",
      "sscle_01g010330   ..........................>>>>>>>>>>>>>>>>\n"
     ]
    },
    {
     "data": {
      "text/plain": [
       "array(['MSTRG.1116.4'], dtype=object)"
      ]
     },
     "execution_count": 33,
     "metadata": {},
     "output_type": "execute_result"
    }
   ],
   "source": [
    "gid = \"AS01432\"\n",
    "\n",
    "plot_transcripts(gtf2[gtf2[\"new_gene_id\"] == gid])\n",
    "x = gtf2.loc[(gtf2[\"new_gene_id\"] == gid) & pd.isnull(gtf2[\"ref_gene_id\"]), \"transcript\"].unique()\n",
    "x"
   ]
  },
  {
   "cell_type": "code",
   "execution_count": 34,
   "id": "e2a6dc4b-ac39-48bc-93b2-9952e86077eb",
   "metadata": {},
   "outputs": [],
   "source": [
    "m = gtf2.loc[gtf2[\"transcript\"] == \"sscle_01g010320\", \"end\"].max()\n",
    "gtf2.loc[gtf2[\"transcript\"] == \"MSTRG.1116.4\", \"end\"] = gtf2.loc[gtf2[\"transcript\"] == \"MSTRG.1116.4\", \"end\"].apply(lambda x: min([x, m]))"
   ]
  },
  {
   "cell_type": "code",
   "execution_count": 35,
   "id": "b782275c-288a-4b3d-a51d-b2b40d07b364",
   "metadata": {},
   "outputs": [
    {
     "name": "stdout",
     "output_type": "stream",
     "text": [
      "            loc   3519670   3519770   3519870   3519970   3520070   3520170   3520270   3520370   \n",
      "        markers   |         |         |         |         |         |         |         |         \n",
      "   MSTRG.1116.4   >>>>>>>>>>>>>>>>>>>>>>>>>>>...............\n",
      "sscle_01g010320   .....>>>>>>>>>>>>>>>>>>>>>>...............\n",
      "sscle_01g010330   ..........................>>>>>>>>>>>>>>>>\n"
     ]
    }
   ],
   "source": [
    "plot_transcripts(gtf2[gtf2[\"new_gene_id\"] == gid])"
   ]
  },
  {
   "cell_type": "code",
   "execution_count": 36,
   "id": "5a3b518e-a48d-4975-bc5b-8ccbfe752a26",
   "metadata": {},
   "outputs": [
    {
     "name": "stdout",
     "output_type": "stream",
     "text": [
      "            loc   443869    443969    444069    444169    444269    444369    444469    444569    \n",
      "        markers   |         |         |         |         |         |         |         |         \n",
      "   MSTRG.1409.1   >>>>>>>>>>>>>>>>>>>>>>>>>>>>>>>>>>>>>>>>>>>>>>>>>>>>>>>>>>>>>>>>>>>>>>>>>>>>>>\n",
      "   MSTRG.1409.2   >>>>>>>>>>>>>>>>>>>>>>>>>>>>>>>>>>>>>>>>>>>>>>>>>>>>>>>>>>>>>>>>>>>>>>>>>>>>>>\n",
      "sscle_02g012870   ...>>>>>>>....................................................................\n",
      "sscle_02g012880   ........................>>>>>>>>>>>>>>>>>>>>>>>>>>>>>>>>>>>>>>>>>>>>>>>.......\n"
     ]
    },
    {
     "data": {
      "text/plain": [
       "array(['MSTRG.1409.1', 'MSTRG.1409.2'], dtype=object)"
      ]
     },
     "execution_count": 36,
     "metadata": {},
     "output_type": "execute_result"
    }
   ],
   "source": [
    "gid = \"AS01603\"\n",
    "\n",
    "plot_transcripts(gtf2[gtf2[\"new_gene_id\"] == gid])\n",
    "x = gtf2.loc[(gtf2[\"new_gene_id\"] == gid) & pd.isnull(gtf2[\"ref_gene_id\"]), \"transcript\"].unique()\n",
    "x"
   ]
  },
  {
   "cell_type": "code",
   "execution_count": 37,
   "id": "95fad2a2-b374-46a8-9a8a-4878a2c39038",
   "metadata": {},
   "outputs": [],
   "source": [
    "responses.update(x)"
   ]
  },
  {
   "cell_type": "code",
   "execution_count": 38,
   "id": "ce518ed5-3d75-4d59-9f67-598c0e15d7a0",
   "metadata": {},
   "outputs": [
    {
     "name": "stdout",
     "output_type": "stream",
     "text": [
      "            loc   171434    171534    171634    171734    171834    171934    172034    172134    \n",
      "        markers   |         |         |         |         |         |         |         |         \n",
      "   MSTRG.2500.1   >>>>>>>>>>>>>>>>>>>>>>>>>>>>>>>>>.........................\n",
      "   MSTRG.2500.4   ................................>>>>>>>>>>>>>>>>>>>>>>>>>>\n",
      "sscle_03g022720   ........>>>>>>>>>>>>>>>>>>>>>>>...........................\n",
      "sscle_03g022730   ..............................>>>>>>>>>>>>>>>>>>>>>>>>>>>>\n"
     ]
    },
    {
     "data": {
      "text/plain": [
       "array(['MSTRG.2500.1', 'MSTRG.2500.4'], dtype=object)"
      ]
     },
     "execution_count": 38,
     "metadata": {},
     "output_type": "execute_result"
    }
   ],
   "source": [
    "gid = \"AS02952\"\n",
    "\n",
    "plot_transcripts(gtf2[gtf2[\"new_gene_id\"] == gid])\n",
    "x = gtf2.loc[(gtf2[\"new_gene_id\"] == gid) & pd.isnull(gtf2[\"ref_gene_id\"]), \"transcript\"].unique()\n",
    "x"
   ]
  },
  {
   "cell_type": "code",
   "execution_count": 39,
   "id": "64fbbd12-3364-4062-891a-27df9da80f34",
   "metadata": {},
   "outputs": [],
   "source": [
    "m = gtf2.loc[gtf2[\"transcript\"] == \"sscle_03g022720\", \"end\"].max()\n",
    "gtf2.loc[gtf2[\"transcript\"] == \"MSTRG.2500.1\", \"end\"] = gtf2.loc[gtf2[\"transcript\"] == \"MSTRG.2500.1\", \"end\"].apply(lambda x: min([x, m]))"
   ]
  },
  {
   "cell_type": "code",
   "execution_count": 40,
   "id": "b3167269-3f90-45be-b0cb-d78affdc80b5",
   "metadata": {},
   "outputs": [
    {
     "data": {
      "text/html": [
       "<div>\n",
       "<style scoped>\n",
       "    .dataframe tbody tr th:only-of-type {\n",
       "        vertical-align: middle;\n",
       "    }\n",
       "\n",
       "    .dataframe tbody tr th {\n",
       "        vertical-align: top;\n",
       "    }\n",
       "\n",
       "    .dataframe thead th {\n",
       "        text-align: right;\n",
       "    }\n",
       "</style>\n",
       "<table border=\"1\" class=\"dataframe\">\n",
       "  <thead>\n",
       "    <tr style=\"text-align: right;\">\n",
       "      <th></th>\n",
       "      <th>seqid</th>\n",
       "      <th>source</th>\n",
       "      <th>type</th>\n",
       "      <th>start</th>\n",
       "      <th>end</th>\n",
       "      <th>score</th>\n",
       "      <th>strand</th>\n",
       "      <th>phase</th>\n",
       "      <th>transcript</th>\n",
       "      <th>gene_id</th>\n",
       "      <th>ref_gene_id</th>\n",
       "      <th>new_gene_id</th>\n",
       "    </tr>\n",
       "  </thead>\n",
       "  <tbody>\n",
       "    <tr>\n",
       "      <th>17638</th>\n",
       "      <td>chr03</td>\n",
       "      <td>StringTie</td>\n",
       "      <td>transcript</td>\n",
       "      <td>171434</td>\n",
       "      <td>174482</td>\n",
       "      <td>1000</td>\n",
       "      <td>+</td>\n",
       "      <td>.</td>\n",
       "      <td>MSTRG.2500.1</td>\n",
       "      <td>MSTRG.2500</td>\n",
       "      <td>&lt;NA&gt;</td>\n",
       "      <td>AS02952</td>\n",
       "    </tr>\n",
       "    <tr>\n",
       "      <th>17644</th>\n",
       "      <td>chr03</td>\n",
       "      <td>StringTie</td>\n",
       "      <td>transcript</td>\n",
       "      <td>172249</td>\n",
       "      <td>174482</td>\n",
       "      <td>1000</td>\n",
       "      <td>+</td>\n",
       "      <td>.</td>\n",
       "      <td>sscle_03g022720</td>\n",
       "      <td>MSTRG.2500</td>\n",
       "      <td>gene-sscle_03g022720</td>\n",
       "      <td>AS02952</td>\n",
       "    </tr>\n",
       "    <tr>\n",
       "      <th>17650</th>\n",
       "      <td>chr03</td>\n",
       "      <td>StringTie</td>\n",
       "      <td>transcript</td>\n",
       "      <td>174482</td>\n",
       "      <td>177315</td>\n",
       "      <td>1000</td>\n",
       "      <td>+</td>\n",
       "      <td>.</td>\n",
       "      <td>sscle_03g022730</td>\n",
       "      <td>MSTRG.2500</td>\n",
       "      <td>gene-sscle_03g022730</td>\n",
       "      <td>AS02952</td>\n",
       "    </tr>\n",
       "    <tr>\n",
       "      <th>17652</th>\n",
       "      <td>chr03</td>\n",
       "      <td>StringTie</td>\n",
       "      <td>transcript</td>\n",
       "      <td>174704</td>\n",
       "      <td>177315</td>\n",
       "      <td>1000</td>\n",
       "      <td>+</td>\n",
       "      <td>.</td>\n",
       "      <td>MSTRG.2500.4</td>\n",
       "      <td>MSTRG.2500</td>\n",
       "      <td>&lt;NA&gt;</td>\n",
       "      <td>AS02952</td>\n",
       "    </tr>\n",
       "  </tbody>\n",
       "</table>\n",
       "</div>"
      ],
      "text/plain": [
       "       seqid     source        type   start     end score strand phase       transcript     gene_id           ref_gene_id new_gene_id\n",
       "17638  chr03  StringTie  transcript  171434  174482  1000      +     .     MSTRG.2500.1  MSTRG.2500                  <NA>     AS02952\n",
       "17644  chr03  StringTie  transcript  172249  174482  1000      +     .  sscle_03g022720  MSTRG.2500  gene-sscle_03g022720     AS02952\n",
       "17650  chr03  StringTie  transcript  174482  177315  1000      +     .  sscle_03g022730  MSTRG.2500  gene-sscle_03g022730     AS02952\n",
       "17652  chr03  StringTie  transcript  174704  177315  1000      +     .     MSTRG.2500.4  MSTRG.2500                  <NA>     AS02952"
      ]
     },
     "execution_count": 40,
     "metadata": {},
     "output_type": "execute_result"
    }
   ],
   "source": [
    "gtf2[(gtf2[\"new_gene_id\"] == gid) & (gtf2[\"type\"] == \"transcript\")]"
   ]
  },
  {
   "cell_type": "code",
   "execution_count": 41,
   "id": "2b40e787-9551-4f57-9c6a-714608810e32",
   "metadata": {},
   "outputs": [
    {
     "name": "stdout",
     "output_type": "stream",
     "text": [
      "            loc   1702477   1702577   1702677   1702777   1702877   1702977   1703077   1703177   \n",
      "        markers   |         |         |         |         |         |         |         |         \n",
      "   MSTRG.4104.1   >>>>>>>>>>>>>>>>>>>>>>>>>>>>>>>>>>>>>>>>>>>>>>>>...............................\n",
      "   MSTRG.4104.3   ............>>>>>>>>>>>>>>>>>>>>>>>>>>>>>>>>>>>>>>>>>>>>>>>>>>>>>>>>>>.........\n",
      "   MSTRG.4104.4   .............>>>>>>>>>>>>>>>>>>>>>>>>>>>>>>>>>>>>>>>>>>>>>>>>>>>>>>>>>>>>>>>>>>\n",
      "   MSTRG.4104.6   .....................>>>>>>>>>>>>>>>>>>>>>>>>>>>>>>>>>>>>>>>>>>>>>>>>>.........\n",
      "sscle_04g036970   >>>>>>>>>>>>>..................................................................\n",
      "sscle_04g036980   ................>>>>>>>>>>>>>>>>>>>>>>>>>>>>>>>>...............................\n",
      "sscle_04g036990   .....................................................................>>>>>>>>>>\n"
     ]
    },
    {
     "data": {
      "text/plain": [
       "array(['MSTRG.4104.1', 'MSTRG.4104.3', 'MSTRG.4104.4', 'MSTRG.4104.6'],\n",
       "      dtype=object)"
      ]
     },
     "execution_count": 41,
     "metadata": {},
     "output_type": "execute_result"
    }
   ],
   "source": [
    "gid = \"AS04530\"\n",
    "\n",
    "plot_transcripts(gtf2[gtf2[\"new_gene_id\"] == gid])\n",
    "x = gtf2.loc[(gtf2[\"new_gene_id\"] == gid) & pd.isnull(gtf2[\"ref_gene_id\"]), \"transcript\"].unique()\n",
    "x"
   ]
  },
  {
   "cell_type": "code",
   "execution_count": 42,
   "id": "19998e09-437f-4c63-bbd8-fc6619ce90e7",
   "metadata": {},
   "outputs": [],
   "source": [
    "responses.update([\"MSTRG.4104.1\", \"MSTRG.4104.4\"])"
   ]
  },
  {
   "cell_type": "code",
   "execution_count": 43,
   "id": "da05e754-f135-40a2-b16f-3678ea2700bd",
   "metadata": {},
   "outputs": [
    {
     "name": "stdout",
     "output_type": "stream",
     "text": [
      "            loc   378853    378953    379053    379153    379253    379353    379453    379553    \n",
      "        markers   |         |         |         |         |         |         |         |         \n",
      "   MSTRG.4595.3   >>>>>>>>>>>>>>>>>>>>>>>>>>>>>>>>>>>>>>>>>>>>>>>>>>>>>>>>>>>>>>>\n",
      "   MSTRG.4595.4   >>>>>>>>>>>>>>>>>>>>>>>>>>>>>>>>>>>>>>>>>>>>>>>>>>>>>>>>>>>>>>>\n",
      "sscle_05g041550   .>>>>>>>>>>>>>>>>>>>>>>>>>>>>>.................................\n",
      "sscle_05g041560   ............................................>>>>>>>>>>>>>>>>...\n"
     ]
    },
    {
     "data": {
      "text/plain": [
       "array(['MSTRG.4595.3', 'MSTRG.4595.4'], dtype=object)"
      ]
     },
     "execution_count": 43,
     "metadata": {},
     "output_type": "execute_result"
    }
   ],
   "source": [
    "gid = \"AS05956\"\n",
    "\n",
    "plot_transcripts(gtf2[gtf2[\"new_gene_id\"] == gid])\n",
    "x = gtf2.loc[(gtf2[\"new_gene_id\"] == gid) & pd.isnull(gtf2[\"ref_gene_id\"]), \"transcript\"].unique()\n",
    "x"
   ]
  },
  {
   "cell_type": "code",
   "execution_count": 44,
   "id": "e79136dc-f50c-4239-bad5-0cbd661f1579",
   "metadata": {},
   "outputs": [],
   "source": [
    "responses.update(x)"
   ]
  },
  {
   "cell_type": "code",
   "execution_count": 45,
   "id": "353b366a-4a72-4ca7-b86f-b276630090bd",
   "metadata": {},
   "outputs": [
    {
     "name": "stdout",
     "output_type": "stream",
     "text": [
      "            loc   2123980   2124080   2124180   2124280   2124380   2124480   2124580   2124680   \n",
      "        markers   |         |         |         |         |         |         |         |         \n",
      "   MSTRG.5144.1   >>>>>>>>>>>>>>>>>>>>>>>>>>>>>>>>>>>>>>>>>>>>>>>>>>>>>>>>>>>>>>>>>>>>>...........\n",
      "   MSTRG.5144.2   .>>>>>>>>>>>>>>>>>>>>>>>>>>>>>>>>>>>>>>>>>>>>>>>>>>>>>>>>.......................\n",
      "   MSTRG.5144.5   ...........................................................>>>>>>>>>>>>>>>>>>>>>\n",
      "sscle_05g046700   ..>>>>>>>>>>>>>>>>>>>>>>>>>>>>>>>>>>>>..........................................\n",
      "sscle_05g046710   ........................................>>>>>>>>>>>>>>..........................\n",
      "sscle_05g046730   ....................................................................>>>>>>>>>>>>\n",
      "            loc   2124780   2124880   2124980   2125080   2125180   2125280   2125380   2125480   \n",
      "        markers   |         |         |         |         |         |         |         |         \n",
      "   MSTRG.5144.1   ......\n",
      "   MSTRG.5144.2   ......\n",
      "   MSTRG.5144.5   >>>>>>\n",
      "sscle_05g046700   ......\n",
      "sscle_05g046710   ......\n",
      "sscle_05g046730   >>>>>>\n"
     ]
    },
    {
     "data": {
      "text/plain": [
       "array(['MSTRG.5144.1', 'MSTRG.5144.2', 'MSTRG.5144.5'], dtype=object)"
      ]
     },
     "execution_count": 45,
     "metadata": {},
     "output_type": "execute_result"
    }
   ],
   "source": [
    "gid = \"AS06269\"\n",
    "\n",
    "plot_transcripts(gtf2[gtf2[\"new_gene_id\"] == gid])\n",
    "x = gtf2.loc[(gtf2[\"new_gene_id\"] == gid) & pd.isnull(gtf2[\"ref_gene_id\"]), \"transcript\"].unique()\n",
    "x"
   ]
  },
  {
   "cell_type": "code",
   "execution_count": 46,
   "id": "99174447-d706-4e7a-98e4-53c949f7f4da",
   "metadata": {},
   "outputs": [],
   "source": [
    "responses.update(['MSTRG.5144.1', 'MSTRG.5144.2'])"
   ]
  },
  {
   "cell_type": "code",
   "execution_count": 47,
   "id": "22260b03-7f2d-474b-8838-d4527c11011d",
   "metadata": {},
   "outputs": [
    {
     "name": "stdout",
     "output_type": "stream",
     "text": [
      "            loc   1450195   1450295   1450395   1450495   1450595   1450695   1450795   1450895   \n",
      "        markers   |         |         |         |         |         |         |         |         \n",
      "   MSTRG.5814.1   <<<<<<<<<<<<<<<<<<<<<<<<<<<<<<<<<<<<<<<<<<<<<<<<<<<<<<<<<<<<<<<<<<<<<<<<<<<<<<<<\n",
      "   MSTRG.5814.4   ........................................................<<<<<<<<<<<<<<<<<<<<<<<<\n",
      "   MSTRG.5814.7   ................................................................................\n",
      "sscle_06g052560   <<<<<<<<<<<<<<<<<<<<<<<<<<<.....................................................\n",
      "sscle_06g052570   ..........................<<<<<<<<<<<<<<<<<<<<<<<<<<<<<<<.......................\n",
      "sscle_06g052580   ...............................................................<<<<<<<<.........\n",
      "sscle_06g052590   ........................................................................<<<<<<<<\n",
      "sscle_06g052610   ................................................................................\n",
      "            loc   1450995   1451095   1451195   1451295   1451395   1451495   1451595   1451695   \n",
      "        markers   |         |         |         |         |         |         |         |         \n",
      "   MSTRG.5814.1   <<<<<<<<<<<<<<<<<<<<<<<<<<<<<<<<<<<<<...................................\n",
      "   MSTRG.5814.4   <<<<<<<<<<<<<<<<<<<<<<<<<<<<<<<<<<<<<<<<<<<<<<<<<<<<<<<<<<<<<<<<<<<<<<<<\n",
      "   MSTRG.5814.7   ....................................<<<<<<<<<<<<<<<<<<<<<<<<<<<<<<<<<<<<\n",
      "sscle_06g052560   ........................................................................\n",
      "sscle_06g052570   ........................................................................\n",
      "sscle_06g052580   ........................................................................\n",
      "sscle_06g052590   <<<<<<<<<<<<<<<<<<<<<<<<<<<<<<<<<<<<<...................................\n",
      "sscle_06g052610   ..............................................<<<<<<<<<<<<<<<<<<<<<<<<<<\n"
     ]
    },
    {
     "data": {
      "text/plain": [
       "array(['MSTRG.5814.1', 'MSTRG.5814.4', 'MSTRG.5814.7'], dtype=object)"
      ]
     },
     "execution_count": 47,
     "metadata": {},
     "output_type": "execute_result"
    }
   ],
   "source": [
    "gid = \"AS06672\"\n",
    "\n",
    "plot_transcripts(gtf2[gtf2[\"new_gene_id\"] == gid])\n",
    "x = gtf2.loc[(gtf2[\"new_gene_id\"] == gid) & pd.isnull(gtf2[\"ref_gene_id\"]), \"transcript\"].unique()\n",
    "x"
   ]
  },
  {
   "cell_type": "code",
   "execution_count": 48,
   "id": "69060e94-18d6-4e83-8c72-344afdc51e54",
   "metadata": {},
   "outputs": [],
   "source": [
    "responses.update(['MSTRG.5814.1', 'MSTRG.5814.4'])"
   ]
  },
  {
   "cell_type": "code",
   "execution_count": 49,
   "id": "b473ea42-5b8c-4b88-b3f1-38d08ffebbb9",
   "metadata": {},
   "outputs": [
    {
     "name": "stdout",
     "output_type": "stream",
     "text": [
      "            loc   776485    776585    776685    776785    776885    776985    777085    777185    \n",
      "        markers   |         |         |         |         |         |         |         |         \n",
      "   MSTRG.6394.1   >>>>>>>>>>>>>>>>>>>>>>>>>>>>>>>.................................................\n",
      "   MSTRG.6394.2   >>>>>>>>>>>>>>>>>>>>>>>>>>>>>>>>>>>>>>>>>>>>>>>>>>>>>>>>>>>>>...................\n",
      "   MSTRG.6394.3   .>>>>>>>>>>>>>>>>>>>>>>>>>>>>>>.................................................\n",
      "   MSTRG.6394.5   ..............................>>>>>>>>>>>>>>>>>>>>>>>>>>>>>>>>>>>>>>>>>>>>>>>>>>\n",
      "   MSTRG.6394.7   ................................................................>>>>>>>>>>>>>>>>\n",
      "   MSTRG.6394.8   .................................................................>>>>>>>>>>>>>>>\n",
      "sscle_07g057500   ...>>>>>>>>>>>>>>>>>>>>>>>>>>>>.................................................\n",
      "sscle_07g057510   ...................................>>>>>>>>>>>>>>>>>>>>>>>>>>...................\n",
      "sscle_07g057530   .................................................................>>>>>>>>>>>>>>>\n",
      "            loc   777285    777385    777485    777585    777685    777785    777885    777985    \n",
      "        markers   |         |         |         |         |         |         |         |         \n",
      "   MSTRG.6394.1   ............\n",
      "   MSTRG.6394.2   ............\n",
      "   MSTRG.6394.3   ............\n",
      "   MSTRG.6394.5   >>>>>>>>>>>>\n",
      "   MSTRG.6394.7   >>>>>>>>>>>>\n",
      "   MSTRG.6394.8   >>>>>>>>>>>>\n",
      "sscle_07g057500   ............\n",
      "sscle_07g057510   ............\n",
      "sscle_07g057530   >>>>>>>>>>>>\n"
     ]
    },
    {
     "data": {
      "text/plain": [
       "array(['MSTRG.6394.1', 'MSTRG.6394.2', 'MSTRG.6394.3', 'MSTRG.6394.5',\n",
       "       'MSTRG.6394.7', 'MSTRG.6394.8'], dtype=object)"
      ]
     },
     "execution_count": 49,
     "metadata": {},
     "output_type": "execute_result"
    }
   ],
   "source": [
    "gid = \"AS07931\"\n",
    "\n",
    "plot_transcripts(gtf2[gtf2[\"new_gene_id\"] == gid])\n",
    "x = gtf2.loc[(gtf2[\"new_gene_id\"] == gid) & pd.isnull(gtf2[\"ref_gene_id\"]), \"transcript\"].unique()\n",
    "x"
   ]
  },
  {
   "cell_type": "code",
   "execution_count": 50,
   "id": "1fa79602-4b2e-4dda-97f9-4e6adb54aaf5",
   "metadata": {},
   "outputs": [],
   "source": [
    "responses.update(['MSTRG.6394.2', 'MSTRG.6394.5'])"
   ]
  },
  {
   "cell_type": "code",
   "execution_count": 51,
   "id": "d3ca7e06-8e61-48ea-81fd-fc9e96c75a53",
   "metadata": {},
   "outputs": [
    {
     "name": "stdout",
     "output_type": "stream",
     "text": [
      "            loc   923942    924042    924142    924242    924342    924442    924542    924642    \n",
      "        markers   |         |         |         |         |         |         |         |         \n",
      "   MSTRG.7965.1   >>>>>>>>>>>>>>>>>>>>>>>>>>>>>>>>>>>>>>>>>>>>>>>>>>>>>>>>>>>>>>>>>>>>>>>>>>>>>>>>\n",
      "   MSTRG.7965.2   >>>>>>>>>>>>>>>>>>>>>>>>>>>>>>>>>>>>>>>>>>>>>>>>>>>>>>>>>>>>>>>>>>>>>>>>>>>>>>>>\n",
      "   MSTRG.7965.3   >>>>>>>>>>>>>>>>>>>>>>>>>>>>>>>>>>>>>>>>>>>>>>>>>>>>>>>>>>>>>>>>>>>>>>>>>>>>>>>>\n",
      "   MSTRG.7965.4   ........>>>>>>>>>>>>>>>>>>>>>>>>>>>>>>>>>>>>>>>>>>>>>>>>>>>>>>>>>>>>>>>>>>>>>>>>\n",
      "   MSTRG.7965.6   .......................>>>>>>>>>>>>>>>>>>>>>>>>>>>>>>>>>>>>>>>>>>>>>>>>>>>......\n",
      "   MSTRG.7965.7   ................................................................................\n",
      "   MSTRG.7965.8   ................................................................................\n",
      "   MSTRG.7965.9   ................................................................................\n",
      "sscle_09g071340   ...........>>>>>>>>>>>>>>>>>>>>>>>>>>>>>>>>>>>>>>>>>>>>>>>>>>>>>>>>>>>>>>>>>>>>>\n",
      "sscle_09g071350   ................................................................................\n",
      "sscle_09g071370   ................................................................................\n",
      "            loc   924742    924842    924942    925042    925142    925242    925342    925442    \n",
      "        markers   |         |         |         |         |         |         |         |         \n",
      "   MSTRG.7965.1   >>>>>>>>>>>>>>>>>>>>>>>>>>>>....................................................\n",
      "   MSTRG.7965.2   >>>>>>>>>>>>>>>>>>>>>>>>>>>>....................................................\n",
      "   MSTRG.7965.3   >>>>>>>>>>>>>>>>>>>>>>>>>>>>....................................................\n",
      "   MSTRG.7965.4   >>>>>>>>>>>>>>>>>>>>>>>>>>>>>>>>>>>>>>>>>>>>>>>>>>>>>>>>>>>>>>>>>>>>>>>>........\n",
      "   MSTRG.7965.6   ................................................................................\n",
      "   MSTRG.7965.7   ...........................>>>>>>>>>>>>>>>>>>>>>>>>>>>>>>>>>>>>>>>>>>>>>>>>>>>>>\n",
      "   MSTRG.7965.8   ...........................>>>>>>>>>>>>>>>>>>>>>>>>>>>>>>>>>>>>>>>>>>>>>>>>>>>>>\n",
      "   MSTRG.7965.9   ............................>>>>>>>>>>>>>>>>>>>>>>>>>>>>>>>>>>>>>>>>>>>>........\n",
      "sscle_09g071340   >>>>>>>>>>>>>>>>>>>>>>>>>>>>....................................................\n",
      "sscle_09g071350   ........................................>>>>>>>>>>>>>>>>>>>>>>>>>>>>>>>>........\n",
      "sscle_09g071370   ...............................................................................>\n",
      "            loc   925542    925642    925742    925842    925942    926042    926142    926242    \n",
      "        markers   |         |         |         |         |         |         |         |         \n",
      "   MSTRG.7965.1   ............\n",
      "   MSTRG.7965.2   ............\n",
      "   MSTRG.7965.3   ............\n",
      "   MSTRG.7965.4   ............\n",
      "   MSTRG.7965.6   ............\n",
      "   MSTRG.7965.7   >>>>>>>>>>>>\n",
      "   MSTRG.7965.8   >>>>>>>>>>>>\n",
      "   MSTRG.7965.9   ............\n",
      "sscle_09g071340   ............\n",
      "sscle_09g071350   ............\n",
      "sscle_09g071370   >>>>>>>>>>>>\n"
     ]
    },
    {
     "data": {
      "text/plain": [
       "array(['MSTRG.7965.1', 'MSTRG.7965.2', 'MSTRG.7965.3', 'MSTRG.7965.4',\n",
       "       'MSTRG.7965.6', 'MSTRG.7965.7', 'MSTRG.7965.8', 'MSTRG.7965.9'],\n",
       "      dtype=object)"
      ]
     },
     "execution_count": 51,
     "metadata": {},
     "output_type": "execute_result"
    }
   ],
   "source": [
    "gid = \"AS09271\"\n",
    "\n",
    "plot_transcripts(gtf2[gtf2[\"new_gene_id\"] == gid])\n",
    "x = gtf2.loc[(gtf2[\"new_gene_id\"] == gid) & pd.isnull(gtf2[\"ref_gene_id\"]), \"transcript\"].unique()\n",
    "x"
   ]
  },
  {
   "cell_type": "code",
   "execution_count": 52,
   "id": "36b84610-3ed0-4c23-ae37-f1c8c972e24c",
   "metadata": {},
   "outputs": [],
   "source": [
    "responses.update(['MSTRG.7965.4', 'MSTRG.7965.7', 'MSTRG.7965.8'])"
   ]
  },
  {
   "cell_type": "code",
   "execution_count": 53,
   "id": "3fcc62c2-006d-4724-8bff-608756747e70",
   "metadata": {},
   "outputs": [
    {
     "name": "stdout",
     "output_type": "stream",
     "text": [
      "            loc   432000    432100    432200    432300    432400    432500    432600    432700    \n",
      "        markers   |         |         |         |         |         |         |         |         \n",
      "   MSTRG.8454.1   <<<<<<<<<<<<<<<<<<<<<<<<<<<<<<<<<<<<<<<<<<<<<<<<<<<<<<<<<<<<<<<<<<<<<<<<<<<<<<<<\n",
      "   MSTRG.8454.2   <<<<<<<<<<<<<<<<<<<<<<<<<<<<<<<<<<<<<<<<<<<<<<<<<<<<<<<<<<<<<<<<<<<<<<<<<<<<<<<<\n",
      "   MSTRG.8454.3   ..<<<<<<<<<<<<<<<<<<<<<<<<<<<<<<<<<<<<<<<<<<<<<<<<<<<<<<<<<<<<<<<<<<<<<<<<<<<<<<\n",
      "   MSTRG.8454.5   ...................................<<<<<<<<<<<<<<<<<<<<<<<<<<<<<<<<<<<<<<<<<<<<<\n",
      "   MSTRG.8454.6   .........................................................<<<<<<<<<<<<<<<<<<<<<<<\n",
      "   MSTRG.8454.8   ................................................................................\n",
      "   MSTRG.8454.9   ................................................................................\n",
      "sscle_10g076010   ..<<<<<<<<<<<<<<<<<<<<<<<<<<<<<<<<..............................................\n",
      "sscle_10g076030   ................................................................................\n",
      "sscle_10g076050   ................................................................................\n",
      "            loc   432800    432900    433000    433100    433200    433300    433400    433500    \n",
      "        markers   |         |         |         |         |         |         |         |         \n",
      "   MSTRG.8454.1   <<<<<<<<<<<<<<<<<<<<<<<<<<<<<<<<<<<<<<<<<...........\n",
      "   MSTRG.8454.2   <<<<<<<<<<<<<<<<<<<<<<<<<<<<<<<<<<<<<<<<<...........\n",
      "   MSTRG.8454.3   <<<<<<<<<<<<<<<<<<<<<<<<<<<<<<<<<<<<<<<<<...........\n",
      "   MSTRG.8454.5   <<<<<<<<<<<<<<<<<<<<<<<<<<<<<<<<<<<<<<<<<<<<<<<<<<<<\n",
      "   MSTRG.8454.6   <<<<<<<<<<<<<<<<<<<<<<<<<<<<<<<<<<<<<<<<<...........\n",
      "   MSTRG.8454.8   ........................................<<<<<<<<<<<<\n",
      "   MSTRG.8454.9   ........................................<<<<<<<<<<<<\n",
      "sscle_10g076010   ....................................................\n",
      "sscle_10g076030   ..<<<<<<<<<<<<<<<<<<<<<<<<<<<<<<<<<<<<<<<...........\n",
      "sscle_10g076050   ...........................................<<<<<<<<.\n"
     ]
    },
    {
     "data": {
      "text/plain": [
       "array(['MSTRG.8454.1', 'MSTRG.8454.2', 'MSTRG.8454.3', 'MSTRG.8454.5',\n",
       "       'MSTRG.8454.6', 'MSTRG.8454.8', 'MSTRG.8454.9'], dtype=object)"
      ]
     },
     "execution_count": 53,
     "metadata": {},
     "output_type": "execute_result"
    }
   ],
   "source": [
    "gid = \"AS09975\"\n",
    "\n",
    "plot_transcripts(gtf2[gtf2[\"new_gene_id\"] == gid])\n",
    "x = gtf2.loc[(gtf2[\"new_gene_id\"] == gid) & pd.isnull(gtf2[\"ref_gene_id\"]), \"transcript\"].unique()\n",
    "x"
   ]
  },
  {
   "cell_type": "code",
   "execution_count": 54,
   "id": "e6d4e770-a94f-4bc5-a9c9-9ead3b618792",
   "metadata": {},
   "outputs": [],
   "source": [
    "responses.update(['MSTRG.8454.1', 'MSTRG.8454.2', 'MSTRG.8454.3', 'MSTRG.8454.5'])"
   ]
  },
  {
   "cell_type": "code",
   "execution_count": 55,
   "id": "83bdd1c6-3081-472b-abf6-8859190b392f",
   "metadata": {},
   "outputs": [
    {
     "name": "stdout",
     "output_type": "stream",
     "text": [
      "            loc   667135    667235    667335    667435    667535    667635    667735    667835    \n",
      "        markers   |         |         |         |         |         |         |         |         \n",
      "   MSTRG.8526.1   <<<<<<<<<<<<<<<<<<<<<<<<<<<<<<<<<<<<<<<<<<.........\n",
      "   MSTRG.8526.3   ..................<<<<<<<<<<<<<<<<<<<<<<<<<<<<<<<<<\n",
      "sscle_10g076660   <<<<<<<<<<<<<<<<<<<................................\n",
      "sscle_10g076670   ..........................<<<<<<<<<<<<<<...........\n",
      "sscle_10g076680   .........................................<<<<<<<<<<\n"
     ]
    },
    {
     "data": {
      "text/plain": [
       "array(['MSTRG.8526.1', 'MSTRG.8526.3'], dtype=object)"
      ]
     },
     "execution_count": 55,
     "metadata": {},
     "output_type": "execute_result"
    }
   ],
   "source": [
    "gid = \"AS10013\"\n",
    "\n",
    "plot_transcripts(gtf2[gtf2[\"new_gene_id\"] == gid])\n",
    "x = gtf2.loc[(gtf2[\"new_gene_id\"] == gid) & pd.isnull(gtf2[\"ref_gene_id\"]), \"transcript\"].unique()\n",
    "x"
   ]
  },
  {
   "cell_type": "code",
   "execution_count": 56,
   "id": "cd764553-20b2-4a37-a9b3-14836f397d28",
   "metadata": {},
   "outputs": [],
   "source": [
    "responses.update(x)"
   ]
  },
  {
   "cell_type": "code",
   "execution_count": 57,
   "id": "f1aa9db6-9e8a-422c-9302-07da7ba50689",
   "metadata": {},
   "outputs": [
    {
     "name": "stdout",
     "output_type": "stream",
     "text": [
      "            loc   1785334   1785434   1785534   1785634   1785734   1785834   1785934   1786034   \n",
      "        markers   |         |         |         |         |         |         |         |         \n",
      "   MSTRG.8858.1   <<<<<<<<<<<<<<<<<<<<<<<<<<<<<<<<<<<<<<<<<<<<<<<<<<<<<<<<<<<<<<<<<<<<<...........\n",
      "   MSTRG.8858.3   ............................................<<<<<<<<<<<<<<<<<<<<<<<<<<<<<<<<<<<<\n",
      "sscle_10g079910   <<<<<<<<<<<<<<<<<<<<<<<<<<<<<<<<<<<<<<<<<<<<<...................................\n",
      "sscle_10g079920   .............................................<<<<<<<<<<<<<<<....................\n",
      "sscle_10g079930   ......................................................................<<<<<<<<<.\n",
      "            loc   1786134   1786234   1786334   1786434   1786534   1786634   1786734   1786834   \n",
      "        markers   |         |         |         |         |         |         |         |         \n",
      "   MSTRG.8858.1   .......\n",
      "   MSTRG.8858.3   <<<<<<<\n",
      "sscle_10g079910   .......\n",
      "sscle_10g079920   .......\n",
      "sscle_10g079930   .......\n"
     ]
    },
    {
     "data": {
      "text/plain": [
       "array(['MSTRG.8858.1', 'MSTRG.8858.3'], dtype=object)"
      ]
     },
     "execution_count": 57,
     "metadata": {},
     "output_type": "execute_result"
    }
   ],
   "source": [
    "gid = \"AS10209\"\n",
    "\n",
    "plot_transcripts(gtf2[gtf2[\"new_gene_id\"] == gid])\n",
    "x = gtf2.loc[(gtf2[\"new_gene_id\"] == gid) & pd.isnull(gtf2[\"ref_gene_id\"]), \"transcript\"].unique()\n",
    "x"
   ]
  },
  {
   "cell_type": "code",
   "execution_count": 58,
   "id": "4ae8dc87-ac09-4bf1-9360-407cb29b5553",
   "metadata": {},
   "outputs": [],
   "source": [
    "responses.update(x)"
   ]
  },
  {
   "cell_type": "code",
   "execution_count": 59,
   "id": "73d46672-a2bd-4eab-aca4-ed1560d19522",
   "metadata": {},
   "outputs": [
    {
     "name": "stdout",
     "output_type": "stream",
     "text": [
      "            loc   1134981   1135081   1135181   1135281   1135381   1135481   1135581   1135681   \n",
      "        markers   |         |         |         |         |         |         |         |         \n",
      "  MSTRG.10565.3   <<<<<<<<<<<<<<<<<<\n",
      "  MSTRG.10565.4   ...<<<<<<<<<<<<<<<\n",
      "sscle_13g095060   ....<<<<<<<<......\n",
      "sscle_13g095070   ............<<<<<<\n"
     ]
    },
    {
     "data": {
      "text/plain": [
       "array(['MSTRG.10565.3', 'MSTRG.10565.4'], dtype=object)"
      ]
     },
     "execution_count": 59,
     "metadata": {},
     "output_type": "execute_result"
    }
   ],
   "source": [
    "gid = \"AS12354\"\n",
    "\n",
    "plot_transcripts(gtf2[gtf2[\"new_gene_id\"] == gid])\n",
    "x = gtf2.loc[(gtf2[\"new_gene_id\"] == gid) & pd.isnull(gtf2[\"ref_gene_id\"]), \"transcript\"].unique()\n",
    "x"
   ]
  },
  {
   "cell_type": "code",
   "execution_count": 60,
   "id": "610baeba-5723-4637-bab9-e895379be23e",
   "metadata": {},
   "outputs": [],
   "source": [
    "responses.update(x)"
   ]
  },
  {
   "cell_type": "code",
   "execution_count": 61,
   "id": "d41d56d6-4fad-4fdc-814a-5d8e34d67e4b",
   "metadata": {},
   "outputs": [
    {
     "name": "stdout",
     "output_type": "stream",
     "text": [
      "            loc   16876     16976     17076     17176     17276     17376     17476     17576     \n",
      "        markers   |         |         |         |         |         |         |         |         \n",
      "  MSTRG.10767.3   <<<<<<<<<<<<<<<<<<<<<<<<<<<<<<<<<<<<<<<<<<<<<<<<<<<<<<<<<<<<<<<<<<<<<<<<<<<<<<<<\n",
      "  MSTRG.10769.1   .................................<<<<<<<........................................\n",
      "sscle_14g097040   ............................<<<<................................................\n",
      "sscle_14g097060   ..............................................................<<<<<<<<<<<<<<<<<<\n",
      "sscle_14g097070   ................................................................................\n",
      "            loc   17676     17776     17876     17976     18076     18176     18276     18376     \n",
      "        markers   |         |         |         |         |         |         |         |         \n",
      "  MSTRG.10767.3   <<<<<<<<<<<<<<<<<<<<<<<<<<<<<<<<<<<<<<<<<<<<<<<<<<<<<<<<<<<<<<<<<<<<<<<<<<<<<<<<\n",
      "  MSTRG.10769.1   ................................................................................\n",
      "sscle_14g097040   ................................................................................\n",
      "sscle_14g097060   <<<<............................................................................\n",
      "sscle_14g097070   .......<<<<<<<<<<<..............................................................\n",
      "            loc   18476     18576     18676     18776     18876     18976     19076     19176     \n",
      "        markers   |         |         |         |         |         |         |         |         \n",
      "  MSTRG.10767.3   <<<<<<<<<<<<<<<<<<<<<<<<<<<\n",
      "  MSTRG.10769.1   ...........................\n",
      "sscle_14g097040   ...........................\n",
      "sscle_14g097060   ...........................\n",
      "sscle_14g097070   ...........................\n"
     ]
    },
    {
     "data": {
      "text/plain": [
       "array(['MSTRG.10767.3', 'MSTRG.10769.1'], dtype=object)"
      ]
     },
     "execution_count": 61,
     "metadata": {},
     "output_type": "execute_result"
    }
   ],
   "source": [
    "gid = \"AS12826\"\n",
    "\n",
    "plot_transcripts(gtf2[gtf2[\"new_gene_id\"] == gid])\n",
    "x = gtf2.loc[(gtf2[\"new_gene_id\"] == gid) & pd.isnull(gtf2[\"ref_gene_id\"]), \"transcript\"].unique()\n",
    "x"
   ]
  },
  {
   "cell_type": "code",
   "execution_count": 62,
   "id": "c65c6d90-a3d6-4e5e-b668-a65c2d96ee7b",
   "metadata": {},
   "outputs": [],
   "source": [
    "responses.add('MSTRG.10767.3')"
   ]
  },
  {
   "cell_type": "code",
   "execution_count": 63,
   "id": "a1973f11-8a80-48d3-afc9-c66180306e45",
   "metadata": {},
   "outputs": [
    {
     "name": "stdout",
     "output_type": "stream",
     "text": [
      "            loc   1754363   1754463   1754563   1754663   1754763   1754863   1754963   1755063   \n",
      "        markers   |         |         |         |         |         |         |         |         \n",
      "  MSTRG.11301.1   >>>>>>>>>>>>>>>>>>>>>>>>>>>>>>>>>>>>>>>.................\n",
      "  MSTRG.11301.2   >>>>>>>>>>>>>>>>>>>>>>>>>>>>>>>>>>>.....................\n",
      "  MSTRG.11301.3   .>>>>>>>>>>>>>>>>>>>>>>>>>>>>>>>>>>>>>>>................\n",
      "  MSTRG.11301.5   ......................................>>>>>>>>>>>>>>>>>>\n",
      "sscle_14g102030   .................>>>>>>>>>..............................\n",
      "sscle_14g102040   ........................................>>>>>>>>>>>>>>>>\n"
     ]
    },
    {
     "data": {
      "text/plain": [
       "array(['MSTRG.11301.1', 'MSTRG.11301.2', 'MSTRG.11301.3', 'MSTRG.11301.5'],\n",
       "      dtype=object)"
      ]
     },
     "execution_count": 63,
     "metadata": {},
     "output_type": "execute_result"
    }
   ],
   "source": [
    "gid = \"AS13467\"\n",
    "\n",
    "plot_transcripts(gtf2[gtf2[\"new_gene_id\"] == gid])\n",
    "x = gtf2.loc[(gtf2[\"new_gene_id\"] == gid) & pd.isnull(gtf2[\"ref_gene_id\"]), \"transcript\"].unique()\n",
    "x"
   ]
  },
  {
   "cell_type": "code",
   "execution_count": 64,
   "id": "58b67f3a-e1ce-4967-b5db-6f4eb2ffaaaa",
   "metadata": {},
   "outputs": [],
   "source": [
    "responses.add(\"MSTRG.11301.3\")"
   ]
  },
  {
   "cell_type": "code",
   "execution_count": 65,
   "id": "f8c1d02f-d52d-485a-8b23-42cf32c6f5b7",
   "metadata": {},
   "outputs": [
    {
     "name": "stdout",
     "output_type": "stream",
     "text": [
      "            loc   2613504   2613604   2613704   2613804   2613904   2614004   2614104   2614204   \n",
      "        markers   |         |         |         |         |         |         |         |         \n",
      "   MSTRG.4385.1   >>>>>>>>>>>>>>>>>>>>>>>>>>>>>>>>>>>>>>>>>>>>>>>>>>>>>>>>...........\n",
      "   MSTRG.4385.2   .>>>>>>>>>>>>>>>>>>>>>>>>>>>>>>>>>>>>>>>>>>>>>>>>>>>>>>>...........\n",
      "   MSTRG.4385.3   .>>>>>>>>>>>>>>>>>>>...............................................\n",
      "   MSTRG.4385.5   ...................>>>>>>>>>>>>>>>>>>>>>>>>>>>>>>>>>>>>>>>>>>>>>>>>\n",
      "sscle_04g039620   ........>>>>>>>>>>>>...............................................\n",
      "sscle_04g039630   .........................>>>>>>>>>>>>>>>>>>>>>>>>>>>>>>>...........\n",
      "sscle_04g039640   .........................................................>>>>>>>>>>\n"
     ]
    },
    {
     "data": {
      "text/plain": [
       "array(['MSTRG.4385.1', 'MSTRG.4385.2', 'MSTRG.4385.3', 'MSTRG.4385.5'],\n",
       "      dtype=object)"
      ]
     },
     "execution_count": 65,
     "metadata": {},
     "output_type": "execute_result"
    }
   ],
   "source": [
    "gid = \"AS04709\"\n",
    "\n",
    "plot_transcripts(gtf2[gtf2[\"new_gene_id\"] == gid])\n",
    "x = gtf2.loc[(gtf2[\"new_gene_id\"] == gid) & pd.isnull(gtf2[\"ref_gene_id\"]), \"transcript\"].unique()\n",
    "x"
   ]
  },
  {
   "cell_type": "code",
   "execution_count": 66,
   "id": "b4c38a68-bb26-4b81-b22b-a68e16fb9aab",
   "metadata": {},
   "outputs": [],
   "source": [
    "responses.update(['MSTRG.4385.1', 'MSTRG.4385.2', 'MSTRG.4385.5'])"
   ]
  },
  {
   "cell_type": "code",
   "execution_count": 67,
   "id": "81ed0af6-dea7-4ee1-abc0-efce8712fadb",
   "metadata": {},
   "outputs": [
    {
     "name": "stdout",
     "output_type": "stream",
     "text": [
      "            loc   94381     94481     94581     94681     94781     94881     94981     95081     \n",
      "        markers   |         |         |         |         |         |         |         |         \n",
      "   MSTRG.4491.1   <<<<<<<<<<<<<<<<<<<<<<<<<<<<<<<<<<<<<<<<<<<<<<<<<<<<<<<<<<<<<<<<<<<<<<<<<<<<<<<<\n",
      "   MSTRG.4491.2   ................................................................................\n",
      "sscle_05g040600   ..........................<<<<<<<<..............................................\n",
      "sscle_05g040640   ................................................................................\n",
      "            loc   95181     95281     95381     95481     95581     95681     95781     95881     \n",
      "        markers   |         |         |         |         |         |         |         |         \n",
      "   MSTRG.4491.1   <<<<<<<<<<<<<<<<<<<<<<<<<<<<<<<<<<<<<<<<<<<<<\n",
      "   MSTRG.4491.2   ................................<<<<<<<<<<<<<\n",
      "sscle_05g040600   .............................................\n",
      "sscle_05g040640   ........................................<<<<<\n"
     ]
    },
    {
     "data": {
      "text/plain": [
       "array(['MSTRG.4491.1', 'MSTRG.4491.2'], dtype=object)"
      ]
     },
     "execution_count": 67,
     "metadata": {},
     "output_type": "execute_result"
    }
   ],
   "source": [
    "gid = \"AS05330\"\n",
    "\n",
    "plot_transcripts(gtf2[gtf2[\"new_gene_id\"] == gid])\n",
    "x = gtf2.loc[(gtf2[\"new_gene_id\"] == gid) & pd.isnull(gtf2[\"ref_gene_id\"]), \"transcript\"].unique()\n",
    "x"
   ]
  },
  {
   "cell_type": "code",
   "execution_count": 68,
   "id": "1e512e57-d9d5-4d9d-b255-efa27bddb6ff",
   "metadata": {},
   "outputs": [],
   "source": [
    "responses.add(\"MSTRG.4491.1\")"
   ]
  },
  {
   "cell_type": "code",
   "execution_count": null,
   "id": "3e40850f-a353-44b7-b068-ab6a1d74c079",
   "metadata": {},
   "outputs": [],
   "source": []
  },
  {
   "cell_type": "markdown",
   "id": "f84bb41a-e222-437a-9938-4d83081228fd",
   "metadata": {},
   "source": [
    "Now i'm looking for components with low coverage."
   ]
  },
  {
   "cell_type": "code",
   "execution_count": 69,
   "id": "a919c2e1-7b9e-45c6-8007-022bd85b4ae9",
   "metadata": {},
   "outputs": [
    {
     "data": {
      "text/html": [
       "<div>\n",
       "<style scoped>\n",
       "    .dataframe tbody tr th:only-of-type {\n",
       "        vertical-align: middle;\n",
       "    }\n",
       "\n",
       "    .dataframe tbody tr th {\n",
       "        vertical-align: top;\n",
       "    }\n",
       "\n",
       "    .dataframe thead th {\n",
       "        text-align: right;\n",
       "    }\n",
       "</style>\n",
       "<table border=\"1\" class=\"dataframe\">\n",
       "  <thead>\n",
       "    <tr style=\"text-align: right;\">\n",
       "      <th></th>\n",
       "      <th>seqid</th>\n",
       "      <th>source</th>\n",
       "      <th>type</th>\n",
       "      <th>start</th>\n",
       "      <th>end</th>\n",
       "      <th>score</th>\n",
       "      <th>strand</th>\n",
       "      <th>phase</th>\n",
       "      <th>transcript</th>\n",
       "      <th>gene_id</th>\n",
       "      <th>ref_gene_id</th>\n",
       "      <th>new_gene_id</th>\n",
       "      <th>new_gene_id2</th>\n",
       "    </tr>\n",
       "  </thead>\n",
       "  <tbody>\n",
       "    <tr>\n",
       "      <th>0</th>\n",
       "      <td>chr01</td>\n",
       "      <td>StringTie</td>\n",
       "      <td>exon</td>\n",
       "      <td>178</td>\n",
       "      <td>345</td>\n",
       "      <td>1000</td>\n",
       "      <td>-</td>\n",
       "      <td>.</td>\n",
       "      <td>MSTRG.1.1</td>\n",
       "      <td>MSTRG.1</td>\n",
       "      <td>&lt;NA&gt;</td>\n",
       "      <td>AS00001</td>\n",
       "      <td>AS00001</td>\n",
       "    </tr>\n",
       "    <tr>\n",
       "      <th>1</th>\n",
       "      <td>chr01</td>\n",
       "      <td>StringTie</td>\n",
       "      <td>transcript</td>\n",
       "      <td>178</td>\n",
       "      <td>1742</td>\n",
       "      <td>1000</td>\n",
       "      <td>-</td>\n",
       "      <td>.</td>\n",
       "      <td>MSTRG.1.1</td>\n",
       "      <td>MSTRG.1</td>\n",
       "      <td>&lt;NA&gt;</td>\n",
       "      <td>AS00001</td>\n",
       "      <td>AS00001</td>\n",
       "    </tr>\n",
       "    <tr>\n",
       "      <th>2</th>\n",
       "      <td>chr01</td>\n",
       "      <td>StringTie</td>\n",
       "      <td>exon</td>\n",
       "      <td>312</td>\n",
       "      <td>882</td>\n",
       "      <td>1000</td>\n",
       "      <td>+</td>\n",
       "      <td>.</td>\n",
       "      <td>MSTRG.2.2</td>\n",
       "      <td>MSTRG.2</td>\n",
       "      <td>&lt;NA&gt;</td>\n",
       "      <td>AS00775</td>\n",
       "      <td>AS00777</td>\n",
       "    </tr>\n",
       "    <tr>\n",
       "      <th>3</th>\n",
       "      <td>chr01</td>\n",
       "      <td>StringTie</td>\n",
       "      <td>transcript</td>\n",
       "      <td>312</td>\n",
       "      <td>4746</td>\n",
       "      <td>1000</td>\n",
       "      <td>+</td>\n",
       "      <td>.</td>\n",
       "      <td>MSTRG.2.2</td>\n",
       "      <td>MSTRG.2</td>\n",
       "      <td>&lt;NA&gt;</td>\n",
       "      <td>AS00775</td>\n",
       "      <td>AS00777</td>\n",
       "    </tr>\n",
       "    <tr>\n",
       "      <th>4</th>\n",
       "      <td>chr01</td>\n",
       "      <td>StringTie</td>\n",
       "      <td>transcript</td>\n",
       "      <td>415</td>\n",
       "      <td>1742</td>\n",
       "      <td>1000</td>\n",
       "      <td>-</td>\n",
       "      <td>.</td>\n",
       "      <td>sscle_01g000010</td>\n",
       "      <td>MSTRG.1</td>\n",
       "      <td>gene-sscle_01g000010</td>\n",
       "      <td>AS00001</td>\n",
       "      <td>AS00001</td>\n",
       "    </tr>\n",
       "  </tbody>\n",
       "</table>\n",
       "</div>"
      ],
      "text/plain": [
       "   seqid     source        type  start   end score strand phase       transcript  gene_id           ref_gene_id new_gene_id new_gene_id2\n",
       "0  chr01  StringTie        exon    178   345  1000      -     .        MSTRG.1.1  MSTRG.1                  <NA>     AS00001      AS00001\n",
       "1  chr01  StringTie  transcript    178  1742  1000      -     .        MSTRG.1.1  MSTRG.1                  <NA>     AS00001      AS00001\n",
       "2  chr01  StringTie        exon    312   882  1000      +     .        MSTRG.2.2  MSTRG.2                  <NA>     AS00775      AS00777\n",
       "3  chr01  StringTie  transcript    312  4746  1000      +     .        MSTRG.2.2  MSTRG.2                  <NA>     AS00775      AS00777\n",
       "4  chr01  StringTie  transcript    415  1742  1000      -     .  sscle_01g000010  MSTRG.1  gene-sscle_01g000010     AS00001      AS00001"
      ]
     },
     "execution_count": 69,
     "metadata": {},
     "output_type": "execute_result"
    }
   ],
   "source": [
    "gtf3 = gtf2.loc[~gtf2[\"transcript\"].isin(responses),].reset_index(drop=True)\n",
    "gtf3.head()\n",
    "\n",
    "itrees = defaultdict(IntervalTree)\n",
    "transcript_indices = dict()\n",
    "indices_transcript = list()\n",
    "\n",
    "for i, row in gtf3[gtf3[\"type\"] == \"transcript\"].reset_index().iterrows():\n",
    "    transcript = row[\"transcript\"]\n",
    "    transcript_indices[transcript] = i\n",
    "    indices_transcript.append(transcript)\n",
    "    itrees[(row[\"seqid\"], row[\"strand\"])].add(Interval(row[\"start\"], row[\"end\"], data=transcript))\n",
    "\n",
    "def reducer(x, y):\n",
    "    if isinstance(x, str):\n",
    "        x = {x}\n",
    "    elif x is None:\n",
    "        x = set()\n",
    "        \n",
    "    x.add(y)\n",
    "    return x\n",
    "    \n",
    "for itree in itrees.values():\n",
    "    itree.merge_overlaps(data_reducer=reducer, data_initializer=set())\n",
    "    \n",
    "new_genes = {}\n",
    "i = 1\n",
    "\n",
    "for itree in itrees.values():\n",
    "    for interval in sorted(itree, key=lambda x: x.begin):\n",
    "        gene_id = f\"AS{i:0>5}\"\n",
    "        i += 1\n",
    "        \n",
    "        for tid in interval.data:\n",
    "            new_genes[tid] = gene_id\n",
    "\n",
    "gtf3[\"new_gene_id2\"] = gtf3[\"transcript\"].apply(new_genes.get)\n",
    "gtf3.head()"
   ]
  },
  {
   "cell_type": "code",
   "execution_count": null,
   "id": "3cf72457-16b7-47f2-bf3f-c12095471b5c",
   "metadata": {},
   "outputs": [],
   "source": []
  },
  {
   "cell_type": "code",
   "execution_count": 70,
   "id": "00ab961e-7b32-4110-96b7-a6d4ae861d5d",
   "metadata": {},
   "outputs": [
    {
     "data": {
      "text/plain": [
       "Series([], Name: transcript, dtype: int64)"
      ]
     },
     "execution_count": 70,
     "metadata": {},
     "output_type": "execute_result"
    }
   ],
   "source": [
    "new_loci = gtf3[gtf3[\"ref_gene_id\"].notnull()].groupby(\"new_gene_id2\")[\"transcript\"].nunique()\n",
    "new_loci[new_loci > 1]"
   ]
  },
  {
   "cell_type": "code",
   "execution_count": 71,
   "id": "216bc486-55e6-4bb0-9e85-4d140e5bc543",
   "metadata": {},
   "outputs": [],
   "source": [
    "check2_done = set()\n",
    "check2_responses = []"
   ]
  },
  {
   "cell_type": "code",
   "execution_count": 72,
   "id": "4a01bfb7-e737-4b0b-a2a9-81b24024af2e",
   "metadata": {},
   "outputs": [],
   "source": [
    "def intersect(a, b):\n",
    "    astart, aend = a\n",
    "    bstart, bend = b\n",
    "    \n",
    "    assert astart < aend, \"a\"\n",
    "    assert bstart < bend, \"b\"\n",
    "    ostart = max([astart, bstart])\n",
    "    oend = min([aend, bend])\n",
    "    \n",
    "    if ostart > oend:\n",
    "        return 0\n",
    "    else:\n",
    "        return oend - ostart\n",
    "\n",
    "def union(a, b):\n",
    "    astart, aend = a\n",
    "    bstart, bend = b\n",
    "    \n",
    "    assert astart < aend, \"a\"\n",
    "    assert bstart < bend, \"b\"\n",
    "    #ostart = min([astart, bstart])\n",
    "    #oend = max([aend, bend])\n",
    "    al = aend - astart\n",
    "    bl = bend - bstart\n",
    "    return (al + bl) - intersect(a, b)"
   ]
  },
  {
   "cell_type": "code",
   "execution_count": 73,
   "id": "2784473d-4718-4704-9818-52b3d1e71e03",
   "metadata": {},
   "outputs": [],
   "source": [
    "def gene_coverage(subdf):\n",
    "    subdf = subdf[subdf[\"type\"] == \"transcript\"].reset_index()\n",
    "    mat = np.zeros((subdf.shape[0], subdf.shape[0]))\n",
    "    \n",
    "    for i, rowi in subdf.iterrows():\n",
    "        for j, rowj in subdf.iterrows():\n",
    "            inter = intersect((rowi[\"start\"], rowi[\"end\"]), (rowj[\"start\"], rowj[\"end\"]))\n",
    "            uni = union((rowi[\"start\"], rowi[\"end\"]), (rowj[\"start\"], rowj[\"end\"]))\n",
    "            min_ = min([abs(rowi[\"start\"] - rowi[\"end\"]), abs(rowj[\"start\"] - rowj[\"end\"])])\n",
    "            mat[i, j] = inter / min_\n",
    "\n",
    "    mat = pd.DataFrame(mat, columns=subdf[\"transcript\"], index=subdf[\"transcript\"])\n",
    "    return mat"
   ]
  },
  {
   "cell_type": "code",
   "execution_count": null,
   "id": "3246eaa2-6294-49c3-b335-7bb19ddb78dc",
   "metadata": {},
   "outputs": [],
   "source": []
  },
  {
   "cell_type": "raw",
   "id": "e9b8f870-06f7-486c-b2a7-0ef158f4da5e",
   "metadata": {},
   "source": [
    "for gene_id, subdf in gtf3.groupby(\"new_gene_id2\"):\n",
    "    if gene_id in check_done:\n",
    "        continue\n",
    "    elif subdf[\"transcript\"].nunique() == 1:\n",
    "        continue\n",
    "\n",
    "    cov = gene_coverage(subdf)\n",
    "    \n",
    "    if np.all(cov.values > 0.9):\n",
    "        continue\n",
    "    \n",
    "\n",
    "    print(f\"# Processing: {gene_id}\")\n",
    "    mapper = {}\n",
    "    \n",
    "    for t in subdf[\"transcript\"]:\n",
    "        mapper[t] = \"RETAINED\"\n",
    "\n",
    "    print(\"\\nCoverage:\")\n",
    "    print(cov)\n",
    "    print()\n",
    "    plot_transcripts(subdf, step=100, mapper=mapper, linewidth=LINEWIDTH)\n",
    "\n",
    "    r = get_check_response(mapper, subdf=subdf, linewidth=LINEWIDTH)\n",
    "    check2_responses.extend(r)\n",
    "    check2_done.add(gene_id)\n",
    "\n",
    "    print(\"\\n###################################\")\n",
    "    clear_output()\n",
    "\n",
    "with open(\"basic_overlap_filter_check2.json\", \"w\") as handle:\n",
    "    json.dump(check2_responses, handle)"
   ]
  },
  {
   "cell_type": "code",
   "execution_count": 75,
   "id": "a60a75c2-86dd-4762-a5be-0726f13f7532",
   "metadata": {},
   "outputs": [],
   "source": [
    "with open(\"basic_overlap_filter_check2.json\", \"r\") as handle:\n",
    "    check2_responses = json.load(handle)\n",
    "\n",
    "responses = {\n",
    "    tid\n",
    "    for tid, _, decision\n",
    "    in check2_responses\n",
    "    if decision == \"DELETED\"\n",
    "}"
   ]
  },
  {
   "cell_type": "code",
   "execution_count": 76,
   "id": "d7d329ea-d90a-421f-8c7c-f6a6893e472f",
   "metadata": {},
   "outputs": [
    {
     "data": {
      "text/html": [
       "<div>\n",
       "<style scoped>\n",
       "    .dataframe tbody tr th:only-of-type {\n",
       "        vertical-align: middle;\n",
       "    }\n",
       "\n",
       "    .dataframe tbody tr th {\n",
       "        vertical-align: top;\n",
       "    }\n",
       "\n",
       "    .dataframe thead th {\n",
       "        text-align: right;\n",
       "    }\n",
       "</style>\n",
       "<table border=\"1\" class=\"dataframe\">\n",
       "  <thead>\n",
       "    <tr style=\"text-align: right;\">\n",
       "      <th></th>\n",
       "      <th>seqid</th>\n",
       "      <th>source</th>\n",
       "      <th>type</th>\n",
       "      <th>start</th>\n",
       "      <th>end</th>\n",
       "      <th>score</th>\n",
       "      <th>strand</th>\n",
       "      <th>phase</th>\n",
       "      <th>transcript</th>\n",
       "      <th>gene_id</th>\n",
       "      <th>ref_gene_id</th>\n",
       "      <th>new_gene_id</th>\n",
       "      <th>new_gene_id2</th>\n",
       "      <th>new_gene_id3</th>\n",
       "    </tr>\n",
       "  </thead>\n",
       "  <tbody>\n",
       "    <tr>\n",
       "      <th>0</th>\n",
       "      <td>chr01</td>\n",
       "      <td>StringTie</td>\n",
       "      <td>exon</td>\n",
       "      <td>178</td>\n",
       "      <td>345</td>\n",
       "      <td>1000</td>\n",
       "      <td>-</td>\n",
       "      <td>.</td>\n",
       "      <td>MSTRG.1.1</td>\n",
       "      <td>MSTRG.1</td>\n",
       "      <td>&lt;NA&gt;</td>\n",
       "      <td>AS00001</td>\n",
       "      <td>AS00001</td>\n",
       "      <td>AS00001</td>\n",
       "    </tr>\n",
       "    <tr>\n",
       "      <th>1</th>\n",
       "      <td>chr01</td>\n",
       "      <td>StringTie</td>\n",
       "      <td>transcript</td>\n",
       "      <td>178</td>\n",
       "      <td>1742</td>\n",
       "      <td>1000</td>\n",
       "      <td>-</td>\n",
       "      <td>.</td>\n",
       "      <td>MSTRG.1.1</td>\n",
       "      <td>MSTRG.1</td>\n",
       "      <td>&lt;NA&gt;</td>\n",
       "      <td>AS00001</td>\n",
       "      <td>AS00001</td>\n",
       "      <td>AS00001</td>\n",
       "    </tr>\n",
       "    <tr>\n",
       "      <th>2</th>\n",
       "      <td>chr01</td>\n",
       "      <td>StringTie</td>\n",
       "      <td>exon</td>\n",
       "      <td>312</td>\n",
       "      <td>882</td>\n",
       "      <td>1000</td>\n",
       "      <td>+</td>\n",
       "      <td>.</td>\n",
       "      <td>MSTRG.2.2</td>\n",
       "      <td>MSTRG.2</td>\n",
       "      <td>&lt;NA&gt;</td>\n",
       "      <td>AS00775</td>\n",
       "      <td>AS00777</td>\n",
       "      <td>AS00777</td>\n",
       "    </tr>\n",
       "    <tr>\n",
       "      <th>3</th>\n",
       "      <td>chr01</td>\n",
       "      <td>StringTie</td>\n",
       "      <td>transcript</td>\n",
       "      <td>312</td>\n",
       "      <td>4746</td>\n",
       "      <td>1000</td>\n",
       "      <td>+</td>\n",
       "      <td>.</td>\n",
       "      <td>MSTRG.2.2</td>\n",
       "      <td>MSTRG.2</td>\n",
       "      <td>&lt;NA&gt;</td>\n",
       "      <td>AS00775</td>\n",
       "      <td>AS00777</td>\n",
       "      <td>AS00777</td>\n",
       "    </tr>\n",
       "    <tr>\n",
       "      <th>4</th>\n",
       "      <td>chr01</td>\n",
       "      <td>StringTie</td>\n",
       "      <td>transcript</td>\n",
       "      <td>415</td>\n",
       "      <td>1742</td>\n",
       "      <td>1000</td>\n",
       "      <td>-</td>\n",
       "      <td>.</td>\n",
       "      <td>sscle_01g000010</td>\n",
       "      <td>MSTRG.1</td>\n",
       "      <td>gene-sscle_01g000010</td>\n",
       "      <td>AS00001</td>\n",
       "      <td>AS00001</td>\n",
       "      <td>AS00001</td>\n",
       "    </tr>\n",
       "  </tbody>\n",
       "</table>\n",
       "</div>"
      ],
      "text/plain": [
       "   seqid     source        type  start   end score strand phase       transcript  gene_id           ref_gene_id new_gene_id new_gene_id2 new_gene_id3\n",
       "0  chr01  StringTie        exon    178   345  1000      -     .        MSTRG.1.1  MSTRG.1                  <NA>     AS00001      AS00001      AS00001\n",
       "1  chr01  StringTie  transcript    178  1742  1000      -     .        MSTRG.1.1  MSTRG.1                  <NA>     AS00001      AS00001      AS00001\n",
       "2  chr01  StringTie        exon    312   882  1000      +     .        MSTRG.2.2  MSTRG.2                  <NA>     AS00775      AS00777      AS00777\n",
       "3  chr01  StringTie  transcript    312  4746  1000      +     .        MSTRG.2.2  MSTRG.2                  <NA>     AS00775      AS00777      AS00777\n",
       "4  chr01  StringTie  transcript    415  1742  1000      -     .  sscle_01g000010  MSTRG.1  gene-sscle_01g000010     AS00001      AS00001      AS00001"
      ]
     },
     "execution_count": 76,
     "metadata": {},
     "output_type": "execute_result"
    }
   ],
   "source": [
    "gtf4 = gtf3.loc[~gtf3[\"transcript\"].isin(responses),].reset_index(drop=True)\n",
    "gtf4.head()\n",
    "\n",
    "itrees = defaultdict(IntervalTree)\n",
    "transcript_indices = dict()\n",
    "indices_transcript = list()\n",
    "\n",
    "for i, row in gtf4[gtf4[\"type\"] == \"transcript\"].reset_index().iterrows():\n",
    "    transcript = row[\"transcript\"]\n",
    "    transcript_indices[transcript] = i\n",
    "    indices_transcript.append(transcript)\n",
    "    itrees[(row[\"seqid\"], row[\"strand\"])].add(Interval(row[\"start\"], row[\"end\"], data=transcript))\n",
    "\n",
    "def reducer(x, y):\n",
    "    if isinstance(x, str):\n",
    "        x = {x}\n",
    "    elif x is None:\n",
    "        x = set()\n",
    "        \n",
    "    x.add(y)\n",
    "    return x\n",
    "    \n",
    "for itree in itrees.values():\n",
    "    itree.merge_overlaps(data_reducer=reducer, data_initializer=set())\n",
    "    \n",
    "new_genes = {}\n",
    "i = 1\n",
    "\n",
    "for itree in itrees.values():\n",
    "    for interval in sorted(itree, key=lambda x: x.begin):\n",
    "        gene_id = f\"AS{i:0>5}\"\n",
    "        i += 1\n",
    "        \n",
    "        for tid in interval.data:\n",
    "            new_genes[tid] = gene_id\n",
    "\n",
    "gtf4[\"new_gene_id3\"] = gtf4[\"transcript\"].apply(new_genes.get)\n",
    "gtf4.head()"
   ]
  },
  {
   "cell_type": "code",
   "execution_count": 77,
   "id": "74a29550-2c1a-45fe-baea-5200ea947c15",
   "metadata": {},
   "outputs": [],
   "source": [
    "def jaccard(t1, t2):\n",
    "    return (len(t1.intersection(t2)) / len(t1.union(t2)))\n",
    "\n",
    "def jaccard_cov(df1, df2):\n",
    "    one = set()\n",
    "    two = set()\n",
    "    \n",
    "    for i, row in df1[df1[\"type\"] == \"exon\"].iterrows():\n",
    "        one.update(range(row[\"start\"], row[\"end\"]))\n",
    "        \n",
    "    for i, row in df2[df2[\"type\"] == \"exon\"].iterrows():\n",
    "        two.update(range(row[\"start\"], row[\"end\"]))\n",
    "    \n",
    "    return jaccard(one, two)\n",
    "\n",
    "\n",
    "def gene_similarities(subdf):\n",
    "    subdf_transcripts = subdf[subdf[\"type\"] == \"transcript\"].drop_duplicates().reset_index()\n",
    "    mat = pd.DataFrame(\n",
    "        np.zeros((subdf_transcripts.shape[0], subdf_transcripts.shape[0])),\n",
    "        columns=subdf_transcripts[\"transcript\"],\n",
    "        index=subdf_transcripts[\"transcript\"]\n",
    "    )    \n",
    "\n",
    "    for i, subdfi in subdf.groupby(\"transcript\"):\n",
    "        for j, subdfj in subdf.groupby(\"transcript\"):\n",
    "            c = jaccard_cov(subdfi, subdfj)\n",
    "\n",
    "            mat.loc[i, j] = c\n",
    "\n",
    "    return mat"
   ]
  },
  {
   "cell_type": "code",
   "execution_count": 99,
   "id": "5352a216-11a4-47a0-a4da-fa396b4d4977",
   "metadata": {},
   "outputs": [],
   "source": [
    "def get_check_response_jaccard(mapper, subdf=None, linewidth=80):\n",
    "    response = None\n",
    "\n",
    "    transcripts_li = sorted(subdf[\"transcript\"].unique())\n",
    "    transcripts = {t: \"RETAINED\" for t in transcripts_li}\n",
    "\n",
    "    while response not in (\"y\", \"n\"):\n",
    "        print(f\"\\n\")\n",
    "        print(\"Please decide if your previous decisions were ok.\")\n",
    "        print(\"Enter [y]=yes/keep all, [n]=no/remove all anotations, [f] to flag for followup, [d] to show the dataframe, or [e] to print exon structure.\")\n",
    "        print(\"Alternatively, you can enter a number to deal with an individual sequence.\")\n",
    "\n",
    "        max_mapper_len = max([len(v) for k, v in transcripts.items()]) + 2\n",
    "        max_id_len = max([len(k) for k, v in transcripts.items()])\n",
    "        for h, (k, v) in enumerate(transcripts.items()):\n",
    "            print(f\"- {v:<{max_mapper_len}}{k:>{max_id_len}}: {h}\")\n",
    "\n",
    "        response = input(\"\\nresponse: \")\n",
    "        response = response.strip().lower()\n",
    "\n",
    "        try:\n",
    "            response_int = int(response)\n",
    "        except:\n",
    "            response_int = None\n",
    "\n",
    "        if response in [\"n\"]:\n",
    "            return {k: \"DELETED\" for k, v in transcripts.items()}\n",
    "        elif response in [\"y\"]:\n",
    "            return transcripts\n",
    "        elif response in [\"f\"]:\n",
    "            return {k: \"FOLLOWUP\" for k, v in transcripts.items()}\n",
    "        elif response in [\"d\"]:\n",
    "            assert subdf is not None, \"no dataframe\"\n",
    "            print(\"Dataframe\")\n",
    "            print(subdf)\n",
    "        elif response in [\"e\", \"p\", \"print\", \"exons\"]:\n",
    "            assert subdf is not None, \"If printing exons you need to have provided the subdf\"\n",
    "            print(\"\\nExons:\")\n",
    "            plot_exons(subdf, step=20, mapper=mapper, linewidth=linewidth)\n",
    "\n",
    "        elif (response_int is not None) and (response_int < len(transcripts)):\n",
    "            response = transcripts_li[response_int]\n",
    "            prev = transcripts[response]\n",
    "\n",
    "            print(f\"\\nEntry {response} was previously {prev}. What would you like to do with it?\")\n",
    "\n",
    "            response2 = \"h\"\n",
    "            while response2 not in (\"x\", \"d\", \"r\"):\n",
    "                response2 = input(f\"\\nEnter [x]=EXCEPTION, [d]=DELETED, [r]=RETAINED, [f]=FOLLOWUP: \")\n",
    "                response2 = response2.strip().lower()\n",
    "\n",
    "            response2 = {\"x\": \"EXCEPTION\", \"d\": \"DELETED\", \"r\": \"RETAINED\", \"f\": \"FOLLOWUP\"}[response2]\n",
    "            transcripts[response] = response2\n",
    "            mapper[response] = response2\n",
    "    return"
   ]
  },
  {
   "cell_type": "code",
   "execution_count": null,
   "id": "60b49d86-85b9-4790-8ce4-e0df10cc2b0b",
   "metadata": {},
   "outputs": [],
   "source": []
  },
  {
   "cell_type": "code",
   "execution_count": 104,
   "id": "5ea9bf2f-8a69-4edc-84fb-45f467dc1e03",
   "metadata": {},
   "outputs": [],
   "source": [
    "done = set()\n",
    "\n",
    "mapper = {t: \"RETAINED\" for t in gtf4[\"transcript\"].unique()}\n",
    "jaccard_checks = dict()"
   ]
  },
  {
   "cell_type": "code",
   "execution_count": 114,
   "id": "6a65420f-c452-4b7e-b6b2-cd4f18e072d5",
   "metadata": {},
   "outputs": [],
   "source": [
    "non_overlapping = set()"
   ]
  },
  {
   "cell_type": "code",
   "execution_count": 119,
   "id": "0022dcc8-6955-43a7-9804-cab3d903c548",
   "metadata": {},
   "outputs": [],
   "source": [
    "for gene_id, subdf in gtf4.groupby(\"new_gene_id3\"):\n",
    "    if subdf[\"transcript\"].nunique() == 1:\n",
    "        continue\n",
    "    sim = gene_similarities(subdf)\n",
    "\n",
    "    if np.any(sim.values == 0):\n",
    "        non_overlapping.add(gene_id)\n",
    "\n",
    "    if gene_id in done:\n",
    "        continue\n",
    "\n",
    "    if np.any(sim.values < 0.4):\n",
    "        print(\"\\n\", gene_id)\n",
    "        print(sim)\n",
    "        plot_exons(subdf, mapper=mapper, linewidth=160)\n",
    "        print()\n",
    "\n",
    "        responses = get_check_response_jaccard(mapper, subdf=subdf, linewidth=160)\n",
    "        jaccard_checks.update(responses)\n",
    "        clear_output()\n",
    "    else:\n",
    "        jaccard_checks.update({tid: mapper[tid] for tid in subdf[\"transcript\"].unique()})\n",
    "\n",
    "    done.add(gene_id)\n",
    "\n",
    "with open(\"basic_overlap_filter_jaccard.json\", \"w\") as handle:\n",
    "    json.dump(jaccard_checks, handle)"
   ]
  },
  {
   "cell_type": "code",
   "execution_count": 120,
   "id": "ae8da054-8a52-4d4b-bd8e-d46df56259cb",
   "metadata": {},
   "outputs": [],
   "source": [
    "with open(\"basic_overlap_filter_jaccard.json\", \"r\") as handle:\n",
    "    jaccard_checks = json.load(handle)"
   ]
  },
  {
   "cell_type": "markdown",
   "id": "66f3ad9e-f9f3-4700-9ee4-04e5a742875c",
   "metadata": {},
   "source": [
    "I happen to know that no transcripts additional genes needed to be excluded by the jaccard filter, but we did have some transcripts that existed entirely within the introns of other genes.\n",
    "These are those genes:"
   ]
  },
  {
   "cell_type": "code",
   "execution_count": 123,
   "id": "a914976f-ba17-4bab-8a40-eaaf56a32433",
   "metadata": {},
   "outputs": [
    {
     "data": {
      "text/plain": [
       "{'AS00936',\n",
       " 'AS01045',\n",
       " 'AS02146',\n",
       " 'AS04979',\n",
       " 'AS07322',\n",
       " 'AS07332',\n",
       " 'AS07649',\n",
       " 'AS11048',\n",
       " 'AS11312',\n",
       " 'AS13480',\n",
       " 'AS14405',\n",
       " 'AS14408'}"
      ]
     },
     "execution_count": 123,
     "metadata": {},
     "output_type": "execute_result"
    }
   ],
   "source": [
    "non_overlapping"
   ]
  },
  {
   "cell_type": "markdown",
   "id": "7fc303eb-0454-49cd-b917-96746c6b3b2c",
   "metadata": {},
   "source": [
    "We'll mark them."
   ]
  },
  {
   "cell_type": "code",
   "execution_count": 128,
   "id": "ac211d89-9e31-429d-a604-d6bbc80f551f",
   "metadata": {},
   "outputs": [],
   "source": [
    "gtf_final = gtf4.copy()\n",
    "gtf_final.drop(columns=[\"new_gene_id\", \"new_gene_id2\", \"ref_gene_id\", \"gene_id\"], inplace=True)"
   ]
  },
  {
   "cell_type": "code",
   "execution_count": 137,
   "id": "9775f5cc-a9ea-45d0-92d7-3da01037d506",
   "metadata": {},
   "outputs": [],
   "source": [
    "gtf_final_order = (\n",
    "    gtf_final\n",
    "    [gtf_final[\"type\"] == \"transcript\"]\n",
    "    .groupby(\"new_gene_id3\")\n",
    "    [[\"seqid\", \"start\", \"end\"]]\n",
    "    .apply(lambda x: pd.Series({\"seqid\": x.iloc[0, 0], \"start\": x[\"start\"].min(), \"end\": x[\"end\"].max()}))\n",
    "    .reset_index()\n",
    "    .sort_values([\"seqid\", \"start\", \"end\"])\n",
    "    .reset_index()\n",
    ")"
   ]
  },
  {
   "cell_type": "code",
   "execution_count": 141,
   "id": "ecb046c6-a7a3-4479-9f6e-a13f9be4f402",
   "metadata": {},
   "outputs": [],
   "source": [
    "gtf_final_gene_mapper = {\n",
    "    j: f\"AS{i:0>5}\" for i, j in enumerate(gtf_final_order[\"new_gene_id3\"])\n",
    "}"
   ]
  },
  {
   "cell_type": "code",
   "execution_count": 142,
   "id": "725bb680-ad23-4fd1-b8bb-0e7b9a853913",
   "metadata": {},
   "outputs": [],
   "source": [
    "gtf_final[\"gene_id\"] = gtf_final[\"new_gene_id3\"].apply(gtf_final_gene_mapper.get)"
   ]
  },
  {
   "cell_type": "code",
   "execution_count": 147,
   "id": "4ae009c0-6b58-46a9-be36-93da92b6299d",
   "metadata": {},
   "outputs": [],
   "source": [
    "gtf_final.sort_values([\"seqid\", \"start\", \"end\", \"gene_id\"], inplace=True)"
   ]
  },
  {
   "cell_type": "code",
   "execution_count": 169,
   "id": "928e9bcd-ffa0-49a1-8e90-1d75b99154d7",
   "metadata": {},
   "outputs": [],
   "source": [
    "gtf_final[\"orig_transcript_id\"] = gtf_final[\"transcript\"].apply(lambda x: x if x.startswith(\"sscle\") else pd.NA)\n",
    "gene_id_mapper = gtf_final[gtf_final[\"orig_transcript_id\"].notnull()][[\"gene_id\", \"orig_transcript_id\"]].drop_duplicates().set_index(\"gene_id\")[\"orig_transcript_id\"].to_dict()\n",
    "\n",
    "gtf_final[\"orig_gene_id\"] = gtf_final[\"gene_id\"].apply(lambda x: f\"gene-{gene_id_mapper.get(x, pd.NA)}\")\n",
    "gtf_final[\"has_intronic_nonoverlapping\"] = gtf_final[\"new_gene_id3\"].apply(lambda x: x in non_overlapping)"
   ]
  },
  {
   "cell_type": "code",
   "execution_count": 173,
   "id": "ca2992b5-0ed6-4956-9017-37e5715aab1c",
   "metadata": {},
   "outputs": [
    {
     "data": {
      "text/html": [
       "<div>\n",
       "<style scoped>\n",
       "    .dataframe tbody tr th:only-of-type {\n",
       "        vertical-align: middle;\n",
       "    }\n",
       "\n",
       "    .dataframe tbody tr th {\n",
       "        vertical-align: top;\n",
       "    }\n",
       "\n",
       "    .dataframe thead th {\n",
       "        text-align: right;\n",
       "    }\n",
       "</style>\n",
       "<table border=\"1\" class=\"dataframe\">\n",
       "  <thead>\n",
       "    <tr style=\"text-align: right;\">\n",
       "      <th></th>\n",
       "      <th>seqid</th>\n",
       "      <th>source</th>\n",
       "      <th>type</th>\n",
       "      <th>start</th>\n",
       "      <th>end</th>\n",
       "      <th>score</th>\n",
       "      <th>strand</th>\n",
       "      <th>phase</th>\n",
       "      <th>transcript</th>\n",
       "      <th>new_gene_id3</th>\n",
       "      <th>gene_id</th>\n",
       "      <th>orig_transcript_id</th>\n",
       "      <th>orig_gene_id</th>\n",
       "      <th>has_intronic_nonoverlapping</th>\n",
       "      <th>attributes</th>\n",
       "    </tr>\n",
       "  </thead>\n",
       "  <tbody>\n",
       "    <tr>\n",
       "      <th>0</th>\n",
       "      <td>chr01</td>\n",
       "      <td>StringTie</td>\n",
       "      <td>exon</td>\n",
       "      <td>178</td>\n",
       "      <td>345</td>\n",
       "      <td>1000</td>\n",
       "      <td>-</td>\n",
       "      <td>.</td>\n",
       "      <td>MSTRG.1.1</td>\n",
       "      <td>AS00001</td>\n",
       "      <td>AS00000</td>\n",
       "      <td>&lt;NA&gt;</td>\n",
       "      <td>gene-sscle_01g000010</td>\n",
       "      <td>False</td>\n",
       "      <td>transcript_id \"MSTRG.1.1\"; gene_id \"AS00000\"; ...</td>\n",
       "    </tr>\n",
       "    <tr>\n",
       "      <th>1</th>\n",
       "      <td>chr01</td>\n",
       "      <td>StringTie</td>\n",
       "      <td>transcript</td>\n",
       "      <td>178</td>\n",
       "      <td>1742</td>\n",
       "      <td>1000</td>\n",
       "      <td>-</td>\n",
       "      <td>.</td>\n",
       "      <td>MSTRG.1.1</td>\n",
       "      <td>AS00001</td>\n",
       "      <td>AS00000</td>\n",
       "      <td>&lt;NA&gt;</td>\n",
       "      <td>gene-sscle_01g000010</td>\n",
       "      <td>False</td>\n",
       "      <td>transcript_id \"MSTRG.1.1\"; gene_id \"AS00000\"; ...</td>\n",
       "    </tr>\n",
       "    <tr>\n",
       "      <th>2</th>\n",
       "      <td>chr01</td>\n",
       "      <td>StringTie</td>\n",
       "      <td>exon</td>\n",
       "      <td>312</td>\n",
       "      <td>882</td>\n",
       "      <td>1000</td>\n",
       "      <td>+</td>\n",
       "      <td>.</td>\n",
       "      <td>MSTRG.2.2</td>\n",
       "      <td>AS00777</td>\n",
       "      <td>AS00001</td>\n",
       "      <td>&lt;NA&gt;</td>\n",
       "      <td>gene-sscle_01g000020</td>\n",
       "      <td>False</td>\n",
       "      <td>transcript_id \"MSTRG.2.2\"; gene_id \"AS00001\"; ...</td>\n",
       "    </tr>\n",
       "    <tr>\n",
       "      <th>3</th>\n",
       "      <td>chr01</td>\n",
       "      <td>StringTie</td>\n",
       "      <td>transcript</td>\n",
       "      <td>312</td>\n",
       "      <td>4746</td>\n",
       "      <td>1000</td>\n",
       "      <td>+</td>\n",
       "      <td>.</td>\n",
       "      <td>MSTRG.2.2</td>\n",
       "      <td>AS00777</td>\n",
       "      <td>AS00001</td>\n",
       "      <td>&lt;NA&gt;</td>\n",
       "      <td>gene-sscle_01g000020</td>\n",
       "      <td>False</td>\n",
       "      <td>transcript_id \"MSTRG.2.2\"; gene_id \"AS00001\"; ...</td>\n",
       "    </tr>\n",
       "    <tr>\n",
       "      <th>4</th>\n",
       "      <td>chr01</td>\n",
       "      <td>StringTie</td>\n",
       "      <td>transcript</td>\n",
       "      <td>415</td>\n",
       "      <td>1742</td>\n",
       "      <td>1000</td>\n",
       "      <td>-</td>\n",
       "      <td>.</td>\n",
       "      <td>sscle_01g000010</td>\n",
       "      <td>AS00001</td>\n",
       "      <td>AS00000</td>\n",
       "      <td>sscle_01g000010</td>\n",
       "      <td>gene-sscle_01g000010</td>\n",
       "      <td>False</td>\n",
       "      <td>transcript_id \"sscle_01g000010\"; gene_id \"AS00...</td>\n",
       "    </tr>\n",
       "    <tr>\n",
       "      <th>...</th>\n",
       "      <td>...</td>\n",
       "      <td>...</td>\n",
       "      <td>...</td>\n",
       "      <td>...</td>\n",
       "      <td>...</td>\n",
       "      <td>...</td>\n",
       "      <td>...</td>\n",
       "      <td>...</td>\n",
       "      <td>...</td>\n",
       "      <td>...</td>\n",
       "      <td>...</td>\n",
       "      <td>...</td>\n",
       "      <td>...</td>\n",
       "      <td>...</td>\n",
       "      <td>...</td>\n",
       "    </tr>\n",
       "    <tr>\n",
       "      <th>86003</th>\n",
       "      <td>chr16</td>\n",
       "      <td>StringTie</td>\n",
       "      <td>transcript</td>\n",
       "      <td>1416950</td>\n",
       "      <td>1417793</td>\n",
       "      <td>1000</td>\n",
       "      <td>+</td>\n",
       "      <td>.</td>\n",
       "      <td>sscle_16g111300</td>\n",
       "      <td>AS14748</td>\n",
       "      <td>AS14750</td>\n",
       "      <td>sscle_16g111300</td>\n",
       "      <td>gene-sscle_16g111300</td>\n",
       "      <td>False</td>\n",
       "      <td>transcript_id \"sscle_16g111300\"; gene_id \"AS14...</td>\n",
       "    </tr>\n",
       "    <tr>\n",
       "      <th>86004</th>\n",
       "      <td>chr16</td>\n",
       "      <td>StringTie</td>\n",
       "      <td>exon</td>\n",
       "      <td>1417136</td>\n",
       "      <td>1417319</td>\n",
       "      <td>1000</td>\n",
       "      <td>+</td>\n",
       "      <td>.</td>\n",
       "      <td>sscle_16g111300</td>\n",
       "      <td>AS14748</td>\n",
       "      <td>AS14750</td>\n",
       "      <td>sscle_16g111300</td>\n",
       "      <td>gene-sscle_16g111300</td>\n",
       "      <td>False</td>\n",
       "      <td>transcript_id \"sscle_16g111300\"; gene_id \"AS14...</td>\n",
       "    </tr>\n",
       "    <tr>\n",
       "      <th>86005</th>\n",
       "      <td>chr16</td>\n",
       "      <td>StringTie</td>\n",
       "      <td>exon</td>\n",
       "      <td>1417369</td>\n",
       "      <td>1417539</td>\n",
       "      <td>1000</td>\n",
       "      <td>+</td>\n",
       "      <td>.</td>\n",
       "      <td>sscle_16g111300</td>\n",
       "      <td>AS14748</td>\n",
       "      <td>AS14750</td>\n",
       "      <td>sscle_16g111300</td>\n",
       "      <td>gene-sscle_16g111300</td>\n",
       "      <td>False</td>\n",
       "      <td>transcript_id \"sscle_16g111300\"; gene_id \"AS14...</td>\n",
       "    </tr>\n",
       "    <tr>\n",
       "      <th>86006</th>\n",
       "      <td>chr16</td>\n",
       "      <td>StringTie</td>\n",
       "      <td>exon</td>\n",
       "      <td>1417605</td>\n",
       "      <td>1417672</td>\n",
       "      <td>1000</td>\n",
       "      <td>+</td>\n",
       "      <td>.</td>\n",
       "      <td>sscle_16g111300</td>\n",
       "      <td>AS14748</td>\n",
       "      <td>AS14750</td>\n",
       "      <td>sscle_16g111300</td>\n",
       "      <td>gene-sscle_16g111300</td>\n",
       "      <td>False</td>\n",
       "      <td>transcript_id \"sscle_16g111300\"; gene_id \"AS14...</td>\n",
       "    </tr>\n",
       "    <tr>\n",
       "      <th>86007</th>\n",
       "      <td>chr16</td>\n",
       "      <td>StringTie</td>\n",
       "      <td>exon</td>\n",
       "      <td>1417724</td>\n",
       "      <td>1417793</td>\n",
       "      <td>1000</td>\n",
       "      <td>+</td>\n",
       "      <td>.</td>\n",
       "      <td>sscle_16g111300</td>\n",
       "      <td>AS14748</td>\n",
       "      <td>AS14750</td>\n",
       "      <td>sscle_16g111300</td>\n",
       "      <td>gene-sscle_16g111300</td>\n",
       "      <td>False</td>\n",
       "      <td>transcript_id \"sscle_16g111300\"; gene_id \"AS14...</td>\n",
       "    </tr>\n",
       "  </tbody>\n",
       "</table>\n",
       "<p>86008 rows × 15 columns</p>\n",
       "</div>"
      ],
      "text/plain": [
       "       seqid     source        type    start      end score strand phase       transcript new_gene_id3  gene_id orig_transcript_id          orig_gene_id   \n",
       "0      chr01  StringTie        exon      178      345  1000      -     .        MSTRG.1.1      AS00001  AS00000               <NA>  gene-sscle_01g000010  \\\n",
       "1      chr01  StringTie  transcript      178     1742  1000      -     .        MSTRG.1.1      AS00001  AS00000               <NA>  gene-sscle_01g000010   \n",
       "2      chr01  StringTie        exon      312      882  1000      +     .        MSTRG.2.2      AS00777  AS00001               <NA>  gene-sscle_01g000020   \n",
       "3      chr01  StringTie  transcript      312     4746  1000      +     .        MSTRG.2.2      AS00777  AS00001               <NA>  gene-sscle_01g000020   \n",
       "4      chr01  StringTie  transcript      415     1742  1000      -     .  sscle_01g000010      AS00001  AS00000    sscle_01g000010  gene-sscle_01g000010   \n",
       "...      ...        ...         ...      ...      ...   ...    ...   ...              ...          ...      ...                ...                   ...   \n",
       "86003  chr16  StringTie  transcript  1416950  1417793  1000      +     .  sscle_16g111300      AS14748  AS14750    sscle_16g111300  gene-sscle_16g111300   \n",
       "86004  chr16  StringTie        exon  1417136  1417319  1000      +     .  sscle_16g111300      AS14748  AS14750    sscle_16g111300  gene-sscle_16g111300   \n",
       "86005  chr16  StringTie        exon  1417369  1417539  1000      +     .  sscle_16g111300      AS14748  AS14750    sscle_16g111300  gene-sscle_16g111300   \n",
       "86006  chr16  StringTie        exon  1417605  1417672  1000      +     .  sscle_16g111300      AS14748  AS14750    sscle_16g111300  gene-sscle_16g111300   \n",
       "86007  chr16  StringTie        exon  1417724  1417793  1000      +     .  sscle_16g111300      AS14748  AS14750    sscle_16g111300  gene-sscle_16g111300   \n",
       "\n",
       "       has_intronic_nonoverlapping                                         attributes  \n",
       "0                            False  transcript_id \"MSTRG.1.1\"; gene_id \"AS00000\"; ...  \n",
       "1                            False  transcript_id \"MSTRG.1.1\"; gene_id \"AS00000\"; ...  \n",
       "2                            False  transcript_id \"MSTRG.2.2\"; gene_id \"AS00001\"; ...  \n",
       "3                            False  transcript_id \"MSTRG.2.2\"; gene_id \"AS00001\"; ...  \n",
       "4                            False  transcript_id \"sscle_01g000010\"; gene_id \"AS00...  \n",
       "...                            ...                                                ...  \n",
       "86003                        False  transcript_id \"sscle_16g111300\"; gene_id \"AS14...  \n",
       "86004                        False  transcript_id \"sscle_16g111300\"; gene_id \"AS14...  \n",
       "86005                        False  transcript_id \"sscle_16g111300\"; gene_id \"AS14...  \n",
       "86006                        False  transcript_id \"sscle_16g111300\"; gene_id \"AS14...  \n",
       "86007                        False  transcript_id \"sscle_16g111300\"; gene_id \"AS14...  \n",
       "\n",
       "[86008 rows x 15 columns]"
      ]
     },
     "execution_count": 173,
     "metadata": {},
     "output_type": "execute_result"
    }
   ],
   "source": [
    "def mapper(row):\n",
    "    out = []\n",
    "    out.append(f'transcript_id \"{row[\"transcript\"]}\"')\n",
    "    out.append(f'gene_id \"{row[\"gene_id\"]}\"')\n",
    "\n",
    "    if pd.notnull(row[\"orig_gene_id\"]):\n",
    "        out.append(f'orig_gene_id \"{row[\"orig_gene_id\"]}\"')\n",
    "    \n",
    "    if pd.notnull(row[\"orig_transcript_id\"]):\n",
    "        out.append(f'orig_transcript_id \"{row[\"orig_transcript_id\"]}\"')\n",
    "    \n",
    "    if row[\"has_intronic_nonoverlapping\"]:\n",
    "        out.append(f'has_intronic_nonoverlapping \"true\"')\n",
    "\n",
    "    return \"; \".join(out)\n",
    "        \n",
    "gtf_final[\"attributes\"] = gtf_final.apply(mapper, axis = 1)\n",
    "gtf_final"
   ]
  },
  {
   "cell_type": "code",
   "execution_count": null,
   "id": "e535497a-ed84-47b2-94c0-56e30bfc46bd",
   "metadata": {},
   "outputs": [],
   "source": [
    "gtf_final.to_csv(\"stringtie_gtf_processed.gtf\", sep=\"\\t\", header=False, index=False, na_rep=\".\", )"
   ]
  },
  {
   "cell_type": "code",
   "execution_count": 178,
   "id": "4556d41d-aecd-407c-8e0a-775af1727ab9",
   "metadata": {},
   "outputs": [],
   "source": [
    "(\n",
    "    gtf_final\n",
    "    [\"seqid source type start end score strand phase attributes\".split()]\n",
    "    .to_csv(\"stringtie_gtf_processed.gtf\", sep=\"\\t\", header=False, index=False, na_rep=\".\", quoting=3)\n",
    ")"
   ]
  },
  {
   "cell_type": "code",
   "execution_count": null,
   "id": "ac88ae0e-c618-4ef2-90a7-d90db7b72e6a",
   "metadata": {},
   "outputs": [],
   "source": []
  },
  {
   "cell_type": "code",
   "execution_count": null,
   "id": "6f3b0cae-2489-4a27-bdd3-b44ca2738884",
   "metadata": {},
   "outputs": [],
   "source": []
  }
 ],
 "metadata": {
  "kernelspec": {
   "display_name": "Python 3 (ipykernel)",
   "language": "python",
   "name": "python3"
  },
  "language_info": {
   "codemirror_mode": {
    "name": "ipython",
    "version": 3
   },
   "file_extension": ".py",
   "mimetype": "text/x-python",
   "name": "python",
   "nbconvert_exporter": "python",
   "pygments_lexer": "ipython3",
   "version": "3.10.8"
  }
 },
 "nbformat": 4,
 "nbformat_minor": 5
}
