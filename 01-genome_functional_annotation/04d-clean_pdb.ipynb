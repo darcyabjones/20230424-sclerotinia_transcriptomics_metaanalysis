{
 "cells": [
  {
   "cell_type": "code",
   "execution_count": 1,
   "id": "af983497-5980-49db-9aaf-a849b739c50f",
   "metadata": {},
   "outputs": [],
   "source": [
    "import re\n",
    "import gzip\n",
    "from typing import NamedTuple\n",
    "\n",
    "import pandas as pd\n",
    "from predectorutils.analyses import MMSeqs"
   ]
  },
  {
   "cell_type": "code",
   "execution_count": 2,
   "id": "66bfff3a-938e-4e58-8e9d-0d676ae883c1",
   "metadata": {},
   "outputs": [],
   "source": [
    "with open(\"./work/pdb-matches.tsv\", \"r\") as handle:\n",
    "    sp = list(MMSeqs.from_file(handle))"
   ]
  },
  {
   "cell_type": "code",
   "execution_count": 3,
   "id": "97ca5ba7-1eb2-43cd-b507-8027de9cc41c",
   "metadata": {},
   "outputs": [
    {
     "name": "stdout",
     "output_type": "stream",
     "text": [
      "--2023-06-14 21:51:46--  https://ftp.wwpdb.org/pub/pdb/derived_data/pdb_seqres.txt.gz\n",
      "Resolving ftp.wwpdb.org (ftp.wwpdb.org)... 128.6.158.49\n",
      "Connecting to ftp.wwpdb.org (ftp.wwpdb.org)|128.6.158.49|:443... connected.\n",
      "HTTP request sent, awaiting response... 200 OK\n",
      "Length: 46077417 (44M) [application/x-gzip]\n",
      "Saving to: ‘work/pdb_seqres.txt.gz’\n",
      "\n",
      "work/pdb_seqres.txt 100%[===================>]  43.94M  2.80MB/s    in 20s     \n",
      "\n",
      "2023-06-14 21:52:07 (2.22 MB/s) - ‘work/pdb_seqres.txt.gz’ saved [46077417/46077417]\n",
      "\n"
     ]
    }
   ],
   "source": [
    "!wget -O work/pdb_seqres.txt.gz https://ftp.wwpdb.org/pub/pdb/derived_data/pdb_seqres.txt.gz"
   ]
  },
  {
   "cell_type": "code",
   "execution_count": 16,
   "id": "9a8d6b77-22c1-4338-8aa6-1a480a058ad3",
   "metadata": {},
   "outputs": [],
   "source": [
    "with gzip.open(\"work/pdb_seqres.txt.gz\", \"r\") as handle:\n",
    "    headers = []\n",
    "    for line in handle:\n",
    "        line = line.decode()\n",
    "        line = line.strip()\n",
    "        if line.startswith(\">\"):\n",
    "            headers.append(line.lstrip(\">\"))"
   ]
  },
  {
   "cell_type": "code",
   "execution_count": 31,
   "id": "ad911537-e0be-4730-a180-45e9b38c73b3",
   "metadata": {},
   "outputs": [],
   "source": [
    "mapper = {}\n",
    "for h in headers:\n",
    "    h = h.strip().split(maxsplit=3)\n",
    "    mapper[h[0]] = h[-1]"
   ]
  },
  {
   "cell_type": "code",
   "execution_count": 11,
   "id": "0283a678-ab37-47a2-ad51-86eeb28d59ae",
   "metadata": {},
   "outputs": [
    {
     "data": {
      "text/html": [
       "<div>\n",
       "<style scoped>\n",
       "    .dataframe tbody tr th:only-of-type {\n",
       "        vertical-align: middle;\n",
       "    }\n",
       "\n",
       "    .dataframe tbody tr th {\n",
       "        vertical-align: top;\n",
       "    }\n",
       "\n",
       "    .dataframe thead th {\n",
       "        text-align: right;\n",
       "    }\n",
       "</style>\n",
       "<table border=\"1\" class=\"dataframe\">\n",
       "  <thead>\n",
       "    <tr style=\"text-align: right;\">\n",
       "      <th></th>\n",
       "      <th>query</th>\n",
       "      <th>target</th>\n",
       "      <th>qstart</th>\n",
       "      <th>qend</th>\n",
       "      <th>qlen</th>\n",
       "      <th>tstart</th>\n",
       "      <th>tend</th>\n",
       "      <th>tlen</th>\n",
       "      <th>evalue</th>\n",
       "      <th>gapopen</th>\n",
       "      <th>pident</th>\n",
       "      <th>alnlen</th>\n",
       "      <th>raw</th>\n",
       "      <th>bits</th>\n",
       "      <th>cigar</th>\n",
       "      <th>mismatch</th>\n",
       "      <th>qcov</th>\n",
       "      <th>tcov</th>\n",
       "    </tr>\n",
       "  </thead>\n",
       "  <tbody>\n",
       "    <tr>\n",
       "      <th>0</th>\n",
       "      <td>sscle_01g000010</td>\n",
       "      <td>6mzd_P</td>\n",
       "      <td>166</td>\n",
       "      <td>291</td>\n",
       "      <td>327</td>\n",
       "      <td>102</td>\n",
       "      <td>195</td>\n",
       "      <td>211</td>\n",
       "      <td>0.000001</td>\n",
       "      <td>2</td>\n",
       "      <td>30.4</td>\n",
       "      <td>125</td>\n",
       "      <td>128.0</td>\n",
       "      <td>55.0</td>\n",
       "      <td>74M3I2M29I17M</td>\n",
       "      <td>55</td>\n",
       "      <td>0.382</td>\n",
       "      <td>0.441</td>\n",
       "    </tr>\n",
       "    <tr>\n",
       "      <th>1</th>\n",
       "      <td>sscle_01g000010</td>\n",
       "      <td>7egf_k</td>\n",
       "      <td>166</td>\n",
       "      <td>291</td>\n",
       "      <td>327</td>\n",
       "      <td>102</td>\n",
       "      <td>195</td>\n",
       "      <td>211</td>\n",
       "      <td>0.000001</td>\n",
       "      <td>2</td>\n",
       "      <td>30.4</td>\n",
       "      <td>125</td>\n",
       "      <td>128.0</td>\n",
       "      <td>55.0</td>\n",
       "      <td>74M3I2M29I17M</td>\n",
       "      <td>55</td>\n",
       "      <td>0.382</td>\n",
       "      <td>0.441</td>\n",
       "    </tr>\n",
       "    <tr>\n",
       "      <th>2</th>\n",
       "      <td>sscle_01g000010</td>\n",
       "      <td>7enc_Dk</td>\n",
       "      <td>166</td>\n",
       "      <td>291</td>\n",
       "      <td>327</td>\n",
       "      <td>102</td>\n",
       "      <td>195</td>\n",
       "      <td>211</td>\n",
       "      <td>0.000001</td>\n",
       "      <td>2</td>\n",
       "      <td>30.4</td>\n",
       "      <td>125</td>\n",
       "      <td>128.0</td>\n",
       "      <td>55.0</td>\n",
       "      <td>74M3I2M29I17M</td>\n",
       "      <td>55</td>\n",
       "      <td>0.382</td>\n",
       "      <td>0.441</td>\n",
       "    </tr>\n",
       "    <tr>\n",
       "      <th>3</th>\n",
       "      <td>sscle_01g000010</td>\n",
       "      <td>8gxq_Dk</td>\n",
       "      <td>166</td>\n",
       "      <td>291</td>\n",
       "      <td>327</td>\n",
       "      <td>102</td>\n",
       "      <td>195</td>\n",
       "      <td>211</td>\n",
       "      <td>0.000001</td>\n",
       "      <td>2</td>\n",
       "      <td>30.4</td>\n",
       "      <td>125</td>\n",
       "      <td>128.0</td>\n",
       "      <td>55.0</td>\n",
       "      <td>74M3I2M29I17M</td>\n",
       "      <td>55</td>\n",
       "      <td>0.382</td>\n",
       "      <td>0.441</td>\n",
       "    </tr>\n",
       "    <tr>\n",
       "      <th>4</th>\n",
       "      <td>sscle_01g000010</td>\n",
       "      <td>7eg9_k</td>\n",
       "      <td>166</td>\n",
       "      <td>291</td>\n",
       "      <td>327</td>\n",
       "      <td>102</td>\n",
       "      <td>195</td>\n",
       "      <td>211</td>\n",
       "      <td>0.000001</td>\n",
       "      <td>2</td>\n",
       "      <td>30.4</td>\n",
       "      <td>125</td>\n",
       "      <td>128.0</td>\n",
       "      <td>55.0</td>\n",
       "      <td>74M3I2M29I17M</td>\n",
       "      <td>55</td>\n",
       "      <td>0.382</td>\n",
       "      <td>0.441</td>\n",
       "    </tr>\n",
       "  </tbody>\n",
       "</table>\n",
       "</div>"
      ],
      "text/plain": [
       "             query   target  qstart  qend  qlen  tstart  tend  tlen    evalue  \\\n",
       "0  sscle_01g000010   6mzd_P     166   291   327     102   195   211  0.000001   \n",
       "1  sscle_01g000010   7egf_k     166   291   327     102   195   211  0.000001   \n",
       "2  sscle_01g000010  7enc_Dk     166   291   327     102   195   211  0.000001   \n",
       "3  sscle_01g000010  8gxq_Dk     166   291   327     102   195   211  0.000001   \n",
       "4  sscle_01g000010   7eg9_k     166   291   327     102   195   211  0.000001   \n",
       "\n",
       "   gapopen  pident  alnlen    raw  bits          cigar  mismatch   qcov   tcov  \n",
       "0        2    30.4     125  128.0  55.0  74M3I2M29I17M        55  0.382  0.441  \n",
       "1        2    30.4     125  128.0  55.0  74M3I2M29I17M        55  0.382  0.441  \n",
       "2        2    30.4     125  128.0  55.0  74M3I2M29I17M        55  0.382  0.441  \n",
       "3        2    30.4     125  128.0  55.0  74M3I2M29I17M        55  0.382  0.441  \n",
       "4        2    30.4     125  128.0  55.0  74M3I2M29I17M        55  0.382  0.441  "
      ]
     },
     "execution_count": 11,
     "metadata": {},
     "output_type": "execute_result"
    }
   ],
   "source": [
    "spdf = pd.DataFrame(map(lambda s: s.as_series(), sp))\n",
    "spdf.head()"
   ]
  },
  {
   "cell_type": "code",
   "execution_count": 32,
   "id": "8e5e6608-e656-469a-8526-5303f34d1d4d",
   "metadata": {},
   "outputs": [],
   "source": [
    "spdf[\"description\"] = spdf[\"target\"].apply(mapper.get)"
   ]
  },
  {
   "cell_type": "code",
   "execution_count": 35,
   "id": "13949f70-2b14-4a1b-b94c-bc1d3c027863",
   "metadata": {},
   "outputs": [],
   "source": [
    "spdf.to_csv(\"output/pdb-matches.tsv\", sep=\"\\t\", index=False)"
   ]
  },
  {
   "cell_type": "code",
   "execution_count": null,
   "id": "44c91360-d342-485b-ac56-e7142a2ba1c5",
   "metadata": {},
   "outputs": [],
   "source": []
  },
  {
   "cell_type": "code",
   "execution_count": 36,
   "id": "ca6c2d48-919f-44ab-a875-1a128065dcaa",
   "metadata": {
    "scrolled": true
   },
   "outputs": [],
   "source": [
    "for spi in sp:\n",
    "    spi.analysis = \"pdb\"\n",
    "    spi.database = \"PDB\""
   ]
  },
  {
   "cell_type": "code",
   "execution_count": 38,
   "id": "49c613f1-b5de-4264-967b-594a5e73d4ee",
   "metadata": {},
   "outputs": [],
   "source": [
    "gffs = []\n",
    "for spi in sp:\n",
    "    gffs.extend(spi.as_gff(software_version=\"13.45111\", database_version=\"2023_06_13\"))"
   ]
  },
  {
   "cell_type": "code",
   "execution_count": 39,
   "id": "49133da5-0230-42f7-8a45-0600a1a9dad0",
   "metadata": {},
   "outputs": [
    {
     "data": {
      "text/plain": [
       "GFFRecord('sscle_01g001290', 'MMSeqs2:13.45111:PDB:2023_06_13', 'protein_match', 0, 462, 8.574e-162, Strand.UNSTRANDED, Phase.NOT_CDS, GFF3Attributes(target=Target('3cpi_G', 0, 447), gap=Gap([GapElement(GapCode.MATCH, 3), GapElement(GapCode.DELETE, 2), GapElement(GapCode.MATCH, 55), GapElement(GapCode.DELETE, 1), GapElement(GapCode.MATCH, 57), GapElement(GapCode.DELETE, 1), GapElement(GapCode.MATCH, 3), GapElement(GapCode.INSERT, 5), GapElement(GapCode.MATCH, 86), GapElement(GapCode.INSERT, 2), GapElement(GapCode.MATCH, 63), GapElement(GapCode.DELETE, 2), GapElement(GapCode.MATCH, 10), GapElement(GapCode.INSERT, 11), GapElement(GapCode.MATCH, 2), GapElement(GapCode.INSERT, 2), GapElement(GapCode.MATCH, 21), GapElement(GapCode.DELETE, 1), GapElement(GapCode.MATCH, 64), GapElement(GapCode.INSERT, 1), GapElement(GapCode.MATCH, 22), GapElement(GapCode.INSERT, 1), GapElement(GapCode.MATCH, 54)]), is_circular=False, custom={'tlen': '451', 'evalue': '8.574e-162', 'gapopen': '11', 'pident': '56.5', 'alnlen': '469', 'raw': '1298.0', 'bits': '517.0', 'mismatch': '175', 'qcov': '0.981', 'tcov': '0.991'}))"
      ]
     },
     "execution_count": 39,
     "metadata": {},
     "output_type": "execute_result"
    }
   ],
   "source": [
    "gffs[0]"
   ]
  },
  {
   "cell_type": "code",
   "execution_count": 41,
   "id": "ff34e18a-e5f1-4c04-bd43-5db95d7349eb",
   "metadata": {},
   "outputs": [],
   "source": [
    "with open(\"output/pdb.gff3\", \"w\") as handle:\n",
    "    for gi in gffs:\n",
    "        tid = gi.attributes.target.target_id\n",
    "    \n",
    "        gi.attributes.dbxref = [f\"PDB:{tid}\"]\n",
    "        if tid in mapper:\n",
    "            gi.attributes.custom[\"description\"] = mapper[tid]\n",
    "        gi.attributes.name = tid\n",
    "        print(gi.as_str(), file=handle)"
   ]
  },
  {
   "cell_type": "code",
   "execution_count": null,
   "id": "5b7acbe1-b24f-4632-bd74-86c339b0b1b0",
   "metadata": {},
   "outputs": [],
   "source": []
  }
 ],
 "metadata": {
  "kernelspec": {
   "display_name": "Python 3 (ipykernel)",
   "language": "python",
   "name": "python3"
  },
  "language_info": {
   "codemirror_mode": {
    "name": "ipython",
    "version": 3
   },
   "file_extension": ".py",
   "mimetype": "text/x-python",
   "name": "python",
   "nbconvert_exporter": "python",
   "pygments_lexer": "ipython3",
   "version": "3.11.4"
  }
 },
 "nbformat": 4,
 "nbformat_minor": 5
}
